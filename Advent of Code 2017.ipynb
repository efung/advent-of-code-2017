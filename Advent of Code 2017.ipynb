{
 "cells": [
  {
   "cell_type": "code",
   "execution_count": 60,
   "metadata": {},
   "outputs": [],
   "source": [
    "# Python 3.x\n",
    "import re\n",
    "import math\n",
    "\n",
    "def Input(day):\n",
    "    \"Open this day's input file.\"\n",
    "    filename = 'inputs/{}.txt'.format(day)\n",
    "    try:\n",
    "        return open(filename)\n",
    "    except FileNotFoundError:\n",
    "        print(\"Oops, couldn't open input\")\n"
   ]
  },
  {
   "cell_type": "markdown",
   "metadata": {},
   "source": [
    "# Day 1 - Inverse Captcha\n",
    "## Part 1"
   ]
  },
  {
   "cell_type": "markdown",
   "metadata": {},
   "source": [
    "> The captcha requires you to review a sequence of digits (your puzzle input) and find the sum of all digits that match the next digit in the list. The list is circular, so the digit after the last digit is the first digit in the list."
   ]
  },
  {
   "cell_type": "markdown",
   "metadata": {},
   "source": [
    "This could be done by reading the digits into an array, then reducing them. As a Python noob, I read that for clarity, list comprehensions are preferred over lambdas, e.g. see Guido van Rossum's [post](http://www.artima.com/weblogs/viewpost.jsp?thread=98196) from 2005. However, list comprehensions produce lists, whereas reduce produces a single output. Van Rossum concedes that `reduce()` may be used when the operator is associative, so I'm going to go ahead with `reduce()`."
   ]
  },
  {
   "cell_type": "code",
   "execution_count": 61,
   "metadata": {},
   "outputs": [],
   "source": [
    "from functools import reduce"
   ]
  },
  {
   "cell_type": "code",
   "execution_count": 62,
   "metadata": {},
   "outputs": [
    {
     "data": {
      "text/plain": [
       "1141"
      ]
     },
     "execution_count": 62,
     "metadata": {},
     "output_type": "execute_result"
    }
   ],
   "source": [
    "def chars_to_int_array(str):\n",
    "    \"Given a string of digits, returns them as an array of integers\"\n",
    "    return [int(ch) for ch in str]\n",
    "\n",
    "def circular_list_next_item(list, index, offset=1): \n",
    "    \"Returns the list item that is 'offset' elements away after the one given by the index; the item after the last item is the first item\"\n",
    "    return list[(index + offset) % len(list)]\n",
    "\n",
    "def inverse_captcha_1(arr):\n",
    "    \"Returns sum of digits in array that match the next digit, treating list as circular.\"\n",
    "    return reduce(lambda sum, i: sum + (arr[i] if circular_list_next_item(arr, i) == arr[i] else 0), range(len(arr)), 0)\n",
    "    \n",
    "\n",
    "assert inverse_captcha_1(chars_to_int_array(\"1122\")) == 3\n",
    "assert inverse_captcha_1(chars_to_int_array(\"1111\")) == 4\n",
    "assert inverse_captcha_1(chars_to_int_array(\"1234\")) == 0\n",
    "assert inverse_captcha_1(chars_to_int_array(\"91212129\")) == 9\n",
    "\n",
    "inverse_captcha_1(chars_to_int_array(Input(1).read().rstrip(\"\\n\")))"
   ]
  },
  {
   "cell_type": "markdown",
   "metadata": {},
   "source": [
    "## Part 2"
   ]
  },
  {
   "cell_type": "markdown",
   "metadata": {},
   "source": [
    "Now, instead of considering the next digit, it wants you to consider the digit halfway around the circular list. Fortunately, your list has an even number of elements"
   ]
  },
  {
   "cell_type": "code",
   "execution_count": 63,
   "metadata": {},
   "outputs": [
    {
     "data": {
      "text/plain": [
       "950"
      ]
     },
     "execution_count": 63,
     "metadata": {},
     "output_type": "execute_result"
    }
   ],
   "source": [
    "def inverse_captcha_2(arr):\n",
    "    \"Returns sum of digits in array that match the digit that is halfway around, treating list as circular.\"\n",
    "    return reduce(lambda sum, i: sum + (arr[i] if circular_list_next_item(arr, i, len(arr)//2) == arr[i] else 0), range(len(arr)), 0)\n",
    "\n",
    "assert inverse_captcha_2(chars_to_int_array(\"1212\")) == 6\n",
    "assert inverse_captcha_2(chars_to_int_array(\"1221\")) == 0\n",
    "assert inverse_captcha_2(chars_to_int_array(\"123425\")) == 4\n",
    "assert inverse_captcha_2(chars_to_int_array(\"123123\")) == 12\n",
    "assert inverse_captcha_2(chars_to_int_array(\"12131415\")) == 4\n",
    "\n",
    "inverse_captcha_2(chars_to_int_array(Input(1).read().rstrip(\"\\n\")))"
   ]
  },
  {
   "cell_type": "markdown",
   "metadata": {},
   "source": [
    "# Day 2"
   ]
  },
  {
   "cell_type": "markdown",
   "metadata": {},
   "source": [
    "## Part 1\n",
    "> The spreadsheet consists of rows of apparently-random numbers. To make sure the recovery process is on the right track, they need you to calculate the spreadsheet's checksum. For each row, determine the difference between the largest value and the smallest value; the checksum is the sum of all of these differences.\n",
    "\n",
    "Initially, I thought I could iterate over each row, keep track of the max and min and subtract. But it's a lot easier to just call the built-in `max` and `min`. Both methods have `O(n)` running time."
   ]
  },
  {
   "cell_type": "code",
   "execution_count": 64,
   "metadata": {},
   "outputs": [
    {
     "data": {
      "text/plain": [
       "37923"
      ]
     },
     "execution_count": 64,
     "metadata": {},
     "output_type": "execute_result"
    }
   ],
   "source": [
    "def line_to_int_array(line):\n",
    "    \"Given a string with whitespace-separated numbers, parse it as an array of integers\"\n",
    "    return [int(n) for n in line.split()]\n",
    "\n",
    "def lines_to_int_arrays(lines):\n",
    "    \"Given a multi-line string, each with whitespace-separated numbers, return an array of arrays of integers\"\n",
    "    return [line_to_int_array(L) for L in lines]\n",
    "    \n",
    "def max_subtract_min(L):\n",
    "    \"Return the largest element minus the smallest element\"\n",
    "    return max(L) - min(L)\n",
    "\n",
    "assert(sum([max_subtract_min(L) for L in lines_to_int_arrays(\"5 1 9 5\\n7 5 3\\n2 4 6 8\".split(\"\\n\"))])) == 18\n",
    "\n",
    "sum([max_subtract_min(L) for L in lines_to_int_arrays(Input(2).readlines())])"
   ]
  },
  {
   "cell_type": "markdown",
   "metadata": {},
   "source": [
    "## Part 2\n",
    "> It sounds like the goal is to find the only two numbers in each row where one evenly divides the other - that is, where the result of the division operation is a whole number. They would like you to find those numbers on each line, divide them, and add up each line's result."
   ]
  },
  {
   "cell_type": "markdown",
   "metadata": {},
   "source": [
    "I had a lot of ideas of how to solve this. Clearly, we need to consider all pairs of numbers within each row. Sorting each row's numbers first, would simplify things a little, because we could always divide the smaller into the larger, by having two loops, one from each end. Or, perhaps we could apply a modulo operator, look for the single entry with zero, but that's wasteful, as we don't abort early. \n",
    "\n",
    "In the end, I preferred the simpler double for-loop, and having to compute the max/min within the inner block, since it didn't requiring any sorting, or reversing."
   ]
  },
  {
   "cell_type": "code",
   "execution_count": 65,
   "metadata": {},
   "outputs": [
    {
     "data": {
      "text/plain": [
       "263"
      ]
     },
     "execution_count": 65,
     "metadata": {},
     "output_type": "execute_result"
    }
   ],
   "source": [
    "def quotient_of_divisible_elements(L):\n",
    "    \"Given a list of numbers in which there are two numbers where one exactly divides the other, return the quotient between them.\"\n",
    "    for i in range(0, len(L)-1):\n",
    "        for j in range(i+1, len(L)):\n",
    "            p = max(L[i], L[j])\n",
    "            q = min(L[i], L[j])\n",
    "            if p % q == 0:\n",
    "                return p // q\n",
    "\n",
    "assert(sum([quotient_of_divisible_elements(L) for L in lines_to_int_arrays(\"5 9 2 8\\n9 4 7 3\\n3 8 6 5\".split(\"\\n\"))])) == 9\n",
    "\n",
    "sum([quotient_of_divisible_elements(L) for L in lines_to_int_arrays(Input(2).readlines())])"
   ]
  },
  {
   "cell_type": "markdown",
   "metadata": {},
   "source": [
    "# Day 3\n",
    "## Part 1\n",
    "> Each square on the grid is allocated in a spiral pattern starting at a location marked 1 and then counting up while spiraling outward. For example, the first few squares are allocated like this:\n",
    "\n",
    "```\n",
    "17  16  15  14  13\n",
    "18   5   4   3  12\n",
    "19   6   1   2  11\n",
    "20   7   8   9  10\n",
    "21  22  23---> ...\n",
    "```\n",
    "> requested data must be carried back to square 1 (the location of the only access port for this memory system) by programs that can only move up, down, left, or right. They always take the shortest path: the [Manhattan Distance](https://en.wikipedia.org/wiki/Taxicab_geometry) between the location of the data and square 1.\n",
    "> How many steps are required to carry the data from the square identified in your puzzle input all the way to the access port?\n"
   ]
  },
  {
   "cell_type": "markdown",
   "metadata": {},
   "source": [
    "At first, I thought about all the different ways I could represent this spiral structure, and be able to get its grid coordinates in an efficient way. After racking my brain for a bit, I noticed a pattern in the bottom right elements of each concentric \"ring\". They were successive powers of odd numbers, e.g. `1=1*1, 9=3*3, 25=5*5`, with the number representing the side length of each ring. Also, every element in a given ring is less than or equal to that corner element (due to the counter-clockwise way the ring is constructed).\n",
    "\n",
    "With this knowledge, my idea was to figure out on which ring the puzzle input belonged to, figure out its position on the ring, then calculate the Manhattan distance to the center."
   ]
  },
  {
   "cell_type": "code",
   "execution_count": 66,
   "metadata": {},
   "outputs": [
    {
     "data": {
      "text/plain": [
       "559"
      ]
     },
     "execution_count": 66,
     "metadata": {},
     "output_type": "execute_result"
    }
   ],
   "source": [
    "input = int(Input(3).read().rstrip('\\n'))\n",
    "\n",
    "dim = math.ceil(math.sqrt(input))\n",
    "dim"
   ]
  },
  {
   "cell_type": "markdown",
   "metadata": {},
   "source": [
    "So the input sits on the ring with bottom right corner element `559*559==312481`, and where each side has 559 numbers.  `312481 - 312051 == 430` which is less than the side length, so our element sits on the bottom row of the square.\n",
    "\n",
    "Since the bottom right corner element is the square of an odd number, the number of steps to the center is:"
   ]
  },
  {
   "cell_type": "code",
   "execution_count": 67,
   "metadata": {},
   "outputs": [
    {
     "data": {
      "text/plain": [
       "279"
      ]
     },
     "execution_count": 67,
     "metadata": {},
     "output_type": "execute_result"
    }
   ],
   "source": [
    "vert_steps = dim // 2\n",
    "vert_steps"
   ]
  },
  {
   "cell_type": "markdown",
   "metadata": {},
   "source": [
    "Next, to figure out the horizontal distance to the center, we need to take the absolute difference between our input number and the center element in our row. The number in our ring, that is directly below the center `1` element would be:"
   ]
  },
  {
   "cell_type": "code",
   "execution_count": 68,
   "metadata": {},
   "outputs": [
    {
     "data": {
      "text/plain": [
       "312202"
      ]
     },
     "execution_count": 68,
     "metadata": {},
     "output_type": "execute_result"
    }
   ],
   "source": [
    "row_center = dim**2 - dim // 2\n",
    "row_center"
   ]
  },
  {
   "cell_type": "markdown",
   "metadata": {},
   "source": [
    "So then the number of horizontal steps would be:"
   ]
  },
  {
   "cell_type": "code",
   "execution_count": 69,
   "metadata": {},
   "outputs": [
    {
     "data": {
      "text/plain": [
       "151"
      ]
     },
     "execution_count": 69,
     "metadata": {},
     "output_type": "execute_result"
    }
   ],
   "source": [
    "horiz_steps = abs(input - row_center)\n",
    "horiz_steps"
   ]
  },
  {
   "cell_type": "markdown",
   "metadata": {},
   "source": [
    "So our final answer is:"
   ]
  },
  {
   "cell_type": "code",
   "execution_count": 70,
   "metadata": {},
   "outputs": [
    {
     "data": {
      "text/plain": [
       "430"
      ]
     },
     "execution_count": 70,
     "metadata": {},
     "output_type": "execute_result"
    }
   ],
   "source": [
    "vert_steps + horiz_steps"
   ]
  },
  {
   "cell_type": "markdown",
   "metadata": {},
   "source": [
    "## Part 2\n",
    "> If we have a function that can tell us the (x,y) of each item, given the square's index, we could easily compute the values by filling them in sequentially, as we could easily get the neighbours from a 2D array.\n",
    "\n",
    "Do the values fit a recurrence relation?\n",
    "Could we figure out a way to map a straight 1d array and coil it?\n",
    "\n",
    "The size of each concentric \"ring\" is:\n",
    "1, 8=2*4, 16=4*4, 24=6*4\n",
    "\n",
    "\n",
    "1 R \n",
    "2 U 3 L 4 L 5 D 6 D 7 R 8 R 9 R\n",
    "10 U 11 U 12 U 13 L 14 L 15 L 16 L 17 D 18 D 19 D 20 D 21 R 22 R 23 R 24 R 25 R\n",
    "\n",
    "Make a really large array, e.g. 559x559. Start in middle. Then keep track of size of spiral we're currently filling, and then fill it.\n",
    "\n"
   ]
  },
  {
   "cell_type": "code",
   "execution_count": 71,
   "metadata": {},
   "outputs": [],
   "source": [
    "def initialize_2d(rows, cols, init_value = 0):\n",
    "    return [ [init_value] * cols for r in range(rows) ]\n",
    "\n",
    "def neighbour_sum(arr, x, y):\n",
    "    \"Return the sum of the adjacent neighbours of arr[x][y], including diagonals\"\n",
    "    rows = len(arr)\n",
    "    cols = len(arr[0])\n",
    "    \n",
    "    if x == (rows // 2) and y == (cols // 2):\n",
    "        return 1\n",
    "    \n",
    "    sum = 0\n",
    "    if (x-1 >= 0):\n",
    "        sum += arr[x-1][y]\n",
    "        if (y-1 >= 0):\n",
    "            sum += arr[x-1][y-1]\n",
    "        if (y+1 <= rows-1):\n",
    "            sum += arr[x-1][y+1]\n",
    "    if (x+1 <= cols-1):    \n",
    "        sum += arr[x+1][y]\n",
    "        if (y-1 >- 0):\n",
    "            sum += arr[x+1][y-1]\n",
    "        if (y+1 <= rows-1):\n",
    "            sum += arr[x+1][y+1]\n",
    "\n",
    "    if (y-1 >- 0):\n",
    "        sum += arr[x][y-1]\n",
    "    if (y+1 <= rows-1):\n",
    "        sum += arr[x][y+1]\n",
    "\n",
    "    return sum"
   ]
  },
  {
   "cell_type": "code",
   "execution_count": 72,
   "metadata": {},
   "outputs": [
    {
     "data": {
      "text/plain": [
       "312453"
      ]
     },
     "execution_count": 72,
     "metadata": {},
     "output_type": "execute_result"
    }
   ],
   "source": [
    "def spiral_index_generator(dim):\n",
    "    generated = 0\n",
    "    \n",
    "    x = dim // 2\n",
    "    y = dim // 2\n",
    "    yield x, y\n",
    "\n",
    "    for spiral_len in range(3, dim+1, 2):\n",
    "        # Each time we start new ring, we are one up\n",
    "        # from bottom right corner\n",
    "        dir_steps = 1\n",
    "        x += 1\n",
    "        for curdir in ['U', 'L', 'D', 'R']:\n",
    "            while dir_steps < spiral_len-1:\n",
    "                yield x, y   \n",
    "\n",
    "                if curdir == 'U':\n",
    "                    y -= 1\n",
    "                elif curdir == 'L':\n",
    "                    x -= 1\n",
    "                elif curdir == 'D':\n",
    "                    y += 1\n",
    "                elif curdir == 'R':\n",
    "                    x += 1\n",
    "                dir_steps += 1\n",
    "                \n",
    "            dir_steps = 0\n",
    "        yield x, y\n",
    "\n",
    "def stress_test(dim, sentinel):\n",
    "    arr = initialize_2d(dim, dim)\n",
    "    for x, y, in spiral_index_generator(dim):\n",
    "        arr[x][y] = neighbour_sum(arr, x, y)\n",
    "        if arr[x][y] > sentinel:\n",
    "            return arr[x][y]\n",
    "\n",
    "stress_test(15, 312051)"
   ]
  },
  {
   "cell_type": "markdown",
   "metadata": {},
   "source": [
    "# Day 4\n",
    "## Part 1\n",
    "> A passphrase consists of a series of words (lowercase letters) separated by spaces. To ensure security, a valid passphrase must contain no duplicate words. How many passphrases are valid?\n",
    "\n",
    "The approach I thought of immediately is to maintain a map from the word to a count of the number of times the word appears on each line. But it's simpler to just put all the words in a set, which automatically removes duplicates."
   ]
  },
  {
   "cell_type": "code",
   "execution_count": 73,
   "metadata": {},
   "outputs": [
    {
     "data": {
      "text/plain": [
       "466"
      ]
     },
     "execution_count": 73,
     "metadata": {},
     "output_type": "execute_result"
    }
   ],
   "source": [
    "def line_to_string_array(line):\n",
    "    \"Given a string with whitespace-separated words, parse it as an array of strings\"\n",
    "    return [n for n in line.split()]\n",
    "\n",
    "def lines_to_string_arrays(lines):\n",
    "    \"Given a multi-line string, each with whitespace-separated words, return an array of arrays of words\"\n",
    "    return [line_to_string_array(L) for L in lines]\n",
    "\n",
    "def duplicate_words(arr):\n",
    "    \"Given an array of words, return true if the array contains duplicate words, false otherwise\"\n",
    "    return len(arr) != len(set(arr))\n",
    "\n",
    "assert(duplicate_words(line_to_string_array(\"aa bb cc dd ee\"))) == False\n",
    "assert(duplicate_words(line_to_string_array(\"aa bb cc dd aa\"))) == True\n",
    "assert(duplicate_words(line_to_string_array(\"aa bb cc dd aaa\"))) == False\n",
    "\n",
    "valid_lines = [duplicate_words(arr) for arr in lines_to_string_arrays(Input(4).readlines())]\n",
    "\n",
    "sum([(1 if not valid else 0) for valid in valid_lines])"
   ]
  },
  {
   "cell_type": "markdown",
   "metadata": {},
   "source": [
    "# Day 4\n",
    "## Part 2\n",
    "> …a valid passphrase must contain no two words that are anagrams of each other - that is, a passphrase is invalid if any word's letters can be rearranged to form any other word in the passphrase."
   ]
  },
  {
   "cell_type": "markdown",
   "metadata": {},
   "source": [
    "One key insight here is that to detect an anagram, you can employ a similar technique to look for duplicate words, but sorting the letters in each word first."
   ]
  },
  {
   "cell_type": "code",
   "execution_count": 74,
   "metadata": {},
   "outputs": [
    {
     "data": {
      "text/plain": [
       "251"
      ]
     },
     "execution_count": 74,
     "metadata": {},
     "output_type": "execute_result"
    }
   ],
   "source": [
    "def has_anagram(arr):\n",
    "    \"Given an array of strings, return true if any of the words is an anagram of any other word; false, otherwise.\"\n",
    "    dict = { ''.join(sorted([c for c in word])): 1 for word in arr }\n",
    "    return len(dict.keys()) != len(arr)\n",
    "\n",
    "assert(has_anagram(line_to_string_array(\"abcde fghij\"))) == False\n",
    "assert(has_anagram(line_to_string_array(\"abcde xyz ecdab\"))) == True\n",
    "assert(has_anagram(line_to_string_array(\"a ab abc abd abf abj\"))) == False\n",
    "assert(has_anagram(line_to_string_array(\"iiii oiii ooii oooi oooo\"))) == False\n",
    "assert(has_anagram(line_to_string_array(\"oiii ioii iioi iiio\"))) == True\n",
    "\n",
    "check = [has_anagram(line) for line in lines_to_string_arrays(Input(4).readlines())]\n",
    "\n",
    "sum(0 if has_anagram else 1 for has_anagram in check)"
   ]
  },
  {
   "cell_type": "markdown",
   "metadata": {},
   "source": [
    "# Day 5\n",
    "## Part 1\n",
    "> The message includes a list of the offsets for each jump. Jumps are relative: -1 moves to the previous instruction, and 2 skips the next one. Start at the first instruction in the list. The goal is to follow the jumps until one leads outside the list.\n",
    "\n",
    "> In addition, these instructions are a little strange; after each jump, the offset of that instruction increases by 1. So, if you come across an offset of 3, you would move three instructions forward, but change it to a 4 for the next time it is encountered.\n",
    "\n",
    "This seems fairly straightforward: read the data into a mutable array, and just update as we traverse it."
   ]
  },
  {
   "cell_type": "code",
   "execution_count": 75,
   "metadata": {},
   "outputs": [],
   "source": [
    "def lines_to_int_array(input):\n",
    "    return [int(e.strip()) for e in input.split()]\n",
    "\n",
    "def jump_maze_1(arr):\n",
    "    \"Given an array of integers representing jumps, follow the Part 1 rules and return the number of steps before we reach an index outside of the array dimension.\"\n",
    "    steps = 0\n",
    "    pos = 0\n",
    "    while True:\n",
    "        try:\n",
    "            jump = arr[pos]\n",
    "            arr[pos] += 1\n",
    "            pos += jump\n",
    "            steps += 1\n",
    "        except IndexError:\n",
    "            return steps\n",
    "\n",
    "assert(jump_maze_1(lines_to_int_array(\"0\\n 3\\n 0 \\n1\\n -3\"))) == 5"
   ]
  },
  {
   "cell_type": "code",
   "execution_count": 76,
   "metadata": {},
   "outputs": [
    {
     "data": {
      "text/plain": [
       "342669"
      ]
     },
     "execution_count": 76,
     "metadata": {},
     "output_type": "execute_result"
    }
   ],
   "source": [
    "jump_maze_1(lines_to_int_array(Input(5).read()))"
   ]
  },
  {
   "cell_type": "markdown",
   "metadata": {},
   "source": [
    "## Part 2\n",
    "> Now, the jumps are even stranger: after each jump, if the offset was three or more, instead decrease it by 1. Otherwise, increase it by 1 as before."
   ]
  },
  {
   "cell_type": "code",
   "execution_count": 77,
   "metadata": {},
   "outputs": [],
   "source": [
    "def jump_maze_2(arr):\n",
    "    \"Given an array of integers representing jumps, follow the Part 2 rules and return the number of steps before we reach an index outside of the array dimension.\"\n",
    "    steps = 0\n",
    "    pos = 0\n",
    "    while True:\n",
    "        try:\n",
    "            jump = arr[pos]\n",
    "            offset = -1 if jump >= 3 else 1\n",
    "            arr[pos] += offset\n",
    "            pos += jump\n",
    "            steps += 1\n",
    "        except IndexError:\n",
    "            return steps\n",
    "assert(jump_maze_2(lines_to_int_array(\"0\\n 3\\n 0 \\n1\\n -3\"))) == 10"
   ]
  },
  {
   "cell_type": "code",
   "execution_count": 78,
   "metadata": {},
   "outputs": [
    {
     "data": {
      "text/plain": [
       "25136209"
      ]
     },
     "execution_count": 78,
     "metadata": {},
     "output_type": "execute_result"
    }
   ],
   "source": [
    "jump_maze_2(lines_to_int_array(Input(5).read()))"
   ]
  },
  {
   "cell_type": "markdown",
   "metadata": {},
   "source": [
    "# Day 6\n",
    "## Part 1\n",
    "> The reallocation routine operates in cycles. In each cycle, it finds the memory bank with the most blocks (ties won by the lowest-numbered memory bank) and redistributes those blocks among the banks. To do this, it removes all of the blocks from the selected bank, then moves to the next (by index) memory bank and inserts one of the blocks. It continues doing this until it runs out of blocks; if it reaches the last memory bank, it wraps around to the first one.\n",
    "\n",
    "> The debugger would like to know how many redistributions can be done before a blocks-in-banks configuration is produced that has been seen before.\n",
    "\n",
    "The obvious solution is to just follow the description and keep track of the index of the current position in the memory bank, a counter for how many redistribution cycles have been performed, and a map of the states seen. To do a redistribution, find `max(array)` and use `array.index(max(array))` to know where to start redistribution.\n",
    "\n",
    "Improving on the obvious solution, instead of adding one to each bank during redistribution, try to update each bank with all the blocks that it needs, by dividing the selected block value by the size of the array. There's a bit of adjustment to account for the remainder if the division is not exact.\n",
    "\n",
    "## Part 2\n",
    "> starting from a state that has already been seen, how many block redistribution cycles must be performed before that same state is seen again?\n",
    "\n",
    "This can be done by extending the redistribution implementation, and storing the cycle number where a state was first seen. When we see it again, we subtract the current cycle number from the cycle when it was first seen, to determine the size of the loop."
   ]
  },
  {
   "cell_type": "code",
   "execution_count": 79,
   "metadata": {},
   "outputs": [],
   "source": [
    "def redistribute(arr):\n",
    "    alen = len(arr)\n",
    "    pos = 0\n",
    "    cycles = 0\n",
    "    states = {}\n",
    "    while True:\n",
    "        most = max(arr)\n",
    "        pos = arr.index(most) # finds lowest index\n",
    "        arr[pos] = 0 # Remove for redistribution\n",
    "        pos += 1\n",
    "        while most > 0:\n",
    "            arr[pos % alen] += 1\n",
    "            most -= 1\n",
    "            pos += 1\n",
    "        cycles += 1\n",
    "        #print(tuple(arr))\n",
    "        if (tuple(arr) in states):\n",
    "            first_repeat_state = tuple(arr)\n",
    "            break\n",
    "        states[tuple(arr)] = cycles # Records on which cycle this state was first seen\n",
    "    return cycles, (first_repeat_state, states[first_repeat_state])\n",
    "\n",
    "cycles, (state, cycle_first_seen) = redistribute([0,2,7,0])\n",
    "assert(cycles) == 5\n",
    "assert(cycles - cycle_first_seen) == 4"
   ]
  },
  {
   "cell_type": "code",
   "execution_count": 80,
   "metadata": {},
   "outputs": [
    {
     "data": {
      "text/plain": [
       "3156"
      ]
     },
     "execution_count": 80,
     "metadata": {},
     "output_type": "execute_result"
    }
   ],
   "source": [
    "cycles, (first_repeat_state, cycle_first_seen) = redistribute(line_to_int_array(Input(6).read()))\n",
    "cycles"
   ]
  },
  {
   "cell_type": "code",
   "execution_count": 81,
   "metadata": {},
   "outputs": [
    {
     "data": {
      "text/plain": [
       "1610"
      ]
     },
     "execution_count": 81,
     "metadata": {},
     "output_type": "execute_result"
    }
   ],
   "source": [
    "cycles - cycle_first_seen"
   ]
  },
  {
   "cell_type": "markdown",
   "metadata": {},
   "source": [
    "# Day 7\n",
    "## Part 1\n",
    "\n",
    "> One program at the bottom supports the entire tower. It's holding a large disc, and on the disc are balanced several more sub-towers. At the bottom of these sub-towers, standing on the bottom disc, are other programs, each holding their own disc, and so on. At the very tops of these sub-sub-sub-...-towers, many programs stand simply keeping the disc below them balanced but with no disc of their own.\n",
    "> You ask each program to yell out their name, their weight, and (if they're holding a disc) the names of the programs immediately above them balancing on that disc. \n",
    "> What is the name of the bottom program?"
   ]
  },
  {
   "cell_type": "code",
   "execution_count": 82,
   "metadata": {},
   "outputs": [],
   "source": [
    "import re\n",
    "def find_bottom_program(lines):\n",
    "    parentmap = {}\n",
    "    for line in lines:\n",
    "        m = re.match(r\"(\\w+) \\((\\d+)\\)( -> (.*))?\", line)\n",
    "        # Ignore leaf nodes, they don't help in finding lowest\n",
    "        if m != None and m.group(4) != None:\n",
    "            parentname = m.group(1)\n",
    "            children = [e.strip() for e in m.group(4).split(',')]\n",
    "            for childname in children:\n",
    "                parentmap[childname] = parentname\n",
    "    \n",
    "    # Pick arbitrary node, traverse up to parent\n",
    "    visit = list(parentmap.keys())[0]\n",
    "    while visit in parentmap:\n",
    "        visit = parentmap[visit]\n",
    "    return visit\n",
    "\n",
    "test_data = \"\"\"\n",
    "pbga (66)\n",
    "xhth (57)\n",
    "ebii (61)\n",
    "havc (66)\n",
    "ktlj (57)\n",
    "fwft (72) -> ktlj, cntj, xhth\n",
    "qoyq (66)\n",
    "padx (45) -> pbga, havc, qoyq\n",
    "tknk (41) -> ugml, padx, fwft\n",
    "jptl (61)\n",
    "ugml (68) -> gyxo, ebii, jptl\n",
    "gyxo (61)\n",
    "cntj (57)\n",
    "\"\"\"\n",
    "assert(find_bottom_program(test_data.split('\\n'))) == 'tknk'\n"
   ]
  },
  {
   "cell_type": "code",
   "execution_count": 83,
   "metadata": {},
   "outputs": [
    {
     "data": {
      "text/plain": [
       "'cyrupz'"
      ]
     },
     "execution_count": 83,
     "metadata": {},
     "output_type": "execute_result"
    }
   ],
   "source": [
    "find_bottom_program(Input(7).readlines())"
   ]
  },
  {
   "cell_type": "markdown",
   "metadata": {},
   "source": [
    "## Part 2\n",
    "> For any program holding a disc, each program standing on that disc forms a sub-tower. Each of those sub-towers are supposed to be the same weight, or the disc itself isn't balanced. The weight of a tower is the sum of the weights of the programs in that tower.\n",
    "> Given that exactly one program is the wrong weight, what would its weight need to be to balance the entire tower?\n",
    "\n",
    "Store all the weights of each disc in one map. Track each disc's children in another map. Define a recursive function to compute weight of program on a disc: if leaf node (no children), weight is own weight. If children, then own weight plus sum of childrens' weights. "
   ]
  },
  {
   "cell_type": "code",
   "execution_count": 84,
   "metadata": {},
   "outputs": [],
   "source": [
    "def initialize_tower_structures(lines):\n",
    "    weight_map = {}\n",
    "    child_map = {}\n",
    "    for line in lines:\n",
    "        m = re.match(r\"(\\w+) \\((\\d+)\\)( -> (.*))?\", line)\n",
    "        name = m.group(1)\n",
    "        weight = int(m.group(2))\n",
    "        weight_map[name] = weight\n",
    "        \n",
    "        if m.group(4) != None:\n",
    "            child_map[name] = [e.strip() for e in m.group(4).split(',')]\n",
    "    return weight_map, child_map"
   ]
  },
  {
   "cell_type": "code",
   "execution_count": 85,
   "metadata": {},
   "outputs": [],
   "source": [
    "def program_weight(name, weight_map, child_map):\n",
    "    self = weight_map[name]\n",
    "    children = (sum([program_weight(child, weight_map, child_map) for child in child_map[name]])) if name in child_map else 0\n",
    "    return self + children"
   ]
  },
  {
   "cell_type": "code",
   "execution_count": 86,
   "metadata": {},
   "outputs": [],
   "source": [
    "weight_map, child_map = initialize_tower_structures( Input(7).readlines() )"
   ]
  },
  {
   "cell_type": "markdown",
   "metadata": {},
   "source": [
    "Starting from root (found in previous part), we check weights of children and recurse on whichever has a different weight than the others. Once we have found the disc that is balanced, we look at its peers to determine what weight needs to be adjusted."
   ]
  },
  {
   "cell_type": "code",
   "execution_count": 87,
   "metadata": {},
   "outputs": [],
   "source": [
    "import collections\n",
    "\n",
    "def find_black_sheep(L, common):\n",
    "    \"Given an array of items that are all assumed to be the given value 'common', return the index of the odd one out. If all elements are the same, raise StopIteration\"\n",
    "    return next(i for i, v in enumerate(L) if v != common)\n",
    "\n",
    "def find_weight_adjustment(root_name, weight_map, child_map):\n",
    "    print(root_name)\n",
    "    child_weights = [program_weight(child, weight_map, child_map) for child in child_map[root_name]]\n",
    "    print(\"\\t{}\".format(child_weights))\n",
    "    try:\n",
    "        common = collections.Counter(child_weights).most_common()[0][0]\n",
    "        index = find_black_sheep(child_weights, common)\n",
    "        next_root = child_map[root_name][index]\n",
    "        adjust = find_weight_adjustment(next_root, weight_map, child_map)\n",
    "        if adjust == None:\n",
    "            next_root_weight = weight_map[next_root]\n",
    "            black_sheep = child_weights[index]\n",
    "            print(\"weight[{}]={} + ({} - {})\".format(next_root, next_root_weight, common, black_sheep))\n",
    "            return next_root_weight + (common - black_sheep)\n",
    "        else:\n",
    "            return adjust\n",
    "    except StopIteration:\n",
    "        return None"
   ]
  },
  {
   "cell_type": "code",
   "execution_count": 88,
   "metadata": {},
   "outputs": [
    {
     "name": "stdout",
     "output_type": "stream",
     "text": [
      "cyrupz\n",
      "\t[119424, 119424, 119424, 119424, 119424, 119424, 119432]\n",
      "qjvtm\n",
      "\t[12146, 12154, 12146]\n",
      "boropxd\n",
      "\t[1123, 1123, 1123, 1123, 1131, 1123, 1123]\n",
      "cwwwj\n",
      "\t[310, 310, 310]\n",
      "weight[cwwwj]=201 + (1123 - 1131)\n"
     ]
    },
    {
     "data": {
      "text/plain": [
       "193"
      ]
     },
     "execution_count": 88,
     "metadata": {},
     "output_type": "execute_result"
    }
   ],
   "source": [
    "find_weight_adjustment('cyrupz', weight_map, child_map)"
   ]
  },
  {
   "cell_type": "markdown",
   "metadata": {},
   "source": [
    "# Day 8\n",
    "## Part 1\n",
    "> Each instruction consists of several parts: the register to modify, whether to increase or decrease that register's value, the amount by which to increase or decrease it, and a condition. If the condition fails, skip the instruction without modifying the register. The registers all start at 0. The instructions look like this:\n",
    "```\n",
    "b inc 5 if a > 1\n",
    "a inc 1 if b < 5\n",
    "c dec -10 if a >= 1\n",
    "c inc -20 if c == 10\n",
    "```\n",
    "\n",
    "Keep a map of all registers. Parse each instruction line, check the condition, and execute."
   ]
  },
  {
   "cell_type": "code",
   "execution_count": 89,
   "metadata": {},
   "outputs": [
    {
     "data": {
      "text/plain": [
       "4066"
      ]
     },
     "execution_count": 89,
     "metadata": {},
     "output_type": "execute_result"
    }
   ],
   "source": [
    "from collections import defaultdict\n",
    "def parse_instruction(line):\n",
    "    m = re.match(r\"(\\w+) (inc|dec) (-?\\d+) if (\\w+) (.*) (-?\\d+)\", line)\n",
    "    return m.groups()\n",
    "\n",
    "def test_reg_condition(regs, test_reg, oper, str_value):\n",
    "    \"Return the result of evaluating a register predicate.\"\n",
    "    val = int(str_value)\n",
    "    if oper == '>':\n",
    "        return regs[test_reg] > val\n",
    "    elif oper == '<':\n",
    "        return regs[test_reg] < val\n",
    "    elif oper == '>=':\n",
    "        return regs[test_reg] >= val\n",
    "    elif oper == '<=':\n",
    "        return regs[test_reg] <= val\n",
    "    elif oper == '==':\n",
    "        return regs[test_reg] == val\n",
    "    elif oper == '!=':\n",
    "        return regs[test_reg] != val\n",
    "    else:\n",
    "        raise Exception\n",
    "    \n",
    "def compute_result(lines, regs):\n",
    "    \"Execute the program given in 'lines', updating register values in 'regs', and returning the largest value ever stored in any register.\"\n",
    "    highwater = 0\n",
    "    for line in lines:\n",
    "        reg, inc_oper, val, test_reg, test_oper, test_value = parse_instruction(line)\n",
    "        if test_reg_condition(regs, test_reg, test_oper, test_value):\n",
    "            value = 0\n",
    "            if inc_oper == 'inc':\n",
    "                value = int(val)\n",
    "            elif inc_oper == 'dec':\n",
    "                value = -int(val)\n",
    "            regs[reg] += value\n",
    "            if regs[reg] > highwater:\n",
    "                highwater = regs[reg]\n",
    "    return highwater\n",
    "\n",
    "regs = defaultdict(lambda: 0)\n",
    "\n",
    "test = \"\"\"b inc 5 if a > 1\n",
    "a inc 1 if b < 5\n",
    "c dec -10 if a >= 1\n",
    "c inc -20 if c == 10\"\"\"\n",
    "highwater = compute_result(test.split('\\n'), regs)\n",
    "assert(max(regs.values())) == 1\n",
    "assert(highwater) == 10\n",
    "\n",
    "regs = defaultdict(lambda: 0)\n",
    "compute_result(Input(8).readlines(), regs)\n",
    "max(regs.values())"
   ]
  },
  {
   "cell_type": "markdown",
   "metadata": {},
   "source": [
    "## Part 2\n",
    "> the CPU also needs to know the highest value held in any register during this process"
   ]
  },
  {
   "cell_type": "code",
   "execution_count": 90,
   "metadata": {},
   "outputs": [
    {
     "data": {
      "text/plain": [
       "4829"
      ]
     },
     "execution_count": 90,
     "metadata": {},
     "output_type": "execute_result"
    }
   ],
   "source": [
    "regs = defaultdict(lambda: 0)\n",
    "compute_result(Input(8).readlines(), regs)"
   ]
  },
  {
   "cell_type": "markdown",
   "metadata": {},
   "source": [
    "# Day 9\n",
    "## Part 1\n",
    "> The characters represent groups - sequences that begin with { and end with }. Within a group, there are zero or more other things, separated by commas: either another group or garbage. Since groups can contain other groups, a } only closes the most-recently-opened unclosed group - that is, they are nestable. Your puzzle input represents a single, large group which itself contains many smaller ones.\n",
    "\n",
    "> Sometimes, instead of a group, you will find garbage. Garbage begins with < and ends with >. Between those angle brackets, almost any character can appear, including { and }. Within garbage, < has no special meaning… Inside garbage, any character that comes after ! should be ignored, including <, >, and even another !.\n",
    "\n",
    "A simple state machine can be used for this. Whenever we encounter a group, we can call a \"parse group\" function recursively. We pass in the score from the parent group into the child group. Each parse group method returns the score for itself, the parent group adds it to its own score. We only need to process the stream a character at a time, so we can use a file/stream abstraction that keeps track of the current position.\n",
    "\n",
    "## Part 2\n",
    "Since we already wrote a method to parse garbage, extending it to keep track of the count is pretty simple. We return a tuple of the score and garbage length from the parse group method."
   ]
  },
  {
   "cell_type": "code",
   "execution_count": 91,
   "metadata": {},
   "outputs": [],
   "source": [
    "from io import StringIO\n",
    "def parse_garbage(file):\n",
    "    \"Given a stream pointing at the character right after the start of the garbage start character, continue reading until the garbage block is completely read. The stream will be left at one character after the end garbage character. Return the number of garbage characters, not including the start/end chars nor cancelled chars nor the cancelling chars.\"\n",
    "    count = 0\n",
    "    char = read_char(file)\n",
    "    while char == '!' and char != '':\n",
    "        read_char(file)\n",
    "        char = read_char(file)\n",
    "    while char != '>' and char != '':\n",
    "        count += 1\n",
    "        char = read_char(file)\n",
    "        while char == '!' and char != '':\n",
    "            read_char(file)\n",
    "            char = read_char(file)\n",
    "    return count\n",
    "    \n",
    "def parse_group(own_score, file):\n",
    "    \"Given a file object, read from the current position until we see an ending group character. Return the group score.\"\n",
    "    garbage_count = 0\n",
    "    score = own_score\n",
    "    char = read_char(file)\n",
    "    while char != '}' and char != '':\n",
    "        if char == '<':\n",
    "            garbage_count += parse_garbage(file)\n",
    "        elif char == '{':\n",
    "            child_group_score, child_garbage_count = parse_group(own_score+1, file)\n",
    "            score += child_group_score\n",
    "            garbage_count += child_garbage_count\n",
    "         \n",
    "        char = read_char(file)\n",
    "\n",
    "    return score, garbage_count\n",
    "\n",
    "def read_char(file):\n",
    "    char = file.read(1)\n",
    "    return char\n",
    "\n",
    "assert(parse_group(0, StringIO('{}'))[0]) == 1\n",
    "assert(parse_group(0, StringIO('{{{}}}'))[0]) == 6\n",
    "assert(parse_group(0, StringIO('{{},{}}'))[0]) == 5\n",
    "assert(parse_group(0, StringIO('{{{},{},{{}}}}'))[0]) == 16\n",
    "assert(parse_group(0, StringIO('{<a>,<a>,<a>,<a>}'))[0]) == 1\n",
    "assert(parse_group(0, StringIO('{{<ab>},{<ab>},{<ab>},{<ab>}}'))[0]) == 9\n",
    "assert(parse_group(0, StringIO('{{<!!>},{<!!>},{<!!>},{<!!>}}'))[0]) == 9\n",
    "assert(parse_group(0, StringIO('{{<a!>},{<a!>},{<a!>},{<ab>}}'))[0]) == 3\n"
   ]
  },
  {
   "cell_type": "code",
   "execution_count": 92,
   "metadata": {},
   "outputs": [
    {
     "data": {
      "text/plain": [
       "(12803, 6425)"
      ]
     },
     "execution_count": 92,
     "metadata": {},
     "output_type": "execute_result"
    }
   ],
   "source": [
    "parse_group(0, Input(9))"
   ]
  },
  {
   "cell_type": "markdown",
   "metadata": {},
   "source": [
    "# Day 10\n",
    "## Part 1\n",
    "> To achieve this, begin with a list of numbers from 0 to 255, a current position which begins at 0 (the first element in the list), a skip size (which starts at 0), and a sequence of lengths (your puzzle input). Then, for each length:\n",
    "\n",
    "- Reverse the order of that length of elements in the list, starting with the element at the current position.\n",
    "- Move the current position forward by that length plus the skip size.\n",
    "- Increase the skip size by one.\n",
    "> The list is circular; if the current position and the length try to reverse elements beyond the end of the list, the operation reverses using as many extra elements as it needs from the front of the list. If the current position moves past the end of the list, it wraps around to the front. Lengths larger than the size of the list are invalid.\n"
   ]
  },
  {
   "cell_type": "code",
   "execution_count": 93,
   "metadata": {},
   "outputs": [],
   "source": [
    "def csv_line_to_int_array(line):\n",
    "    \"Given a string with comma-separated numbers, parse it as an array of integers\"\n",
    "    return [int(n) for n in line.split(',')]\n",
    "\n",
    "def circular_list_reverse(arr, pos, length):\n",
    "    \"Given a circular array, and a starting position, reverse the elements from pos to pos+length-1\"\n",
    "    arrlen = len(arr)\n",
    "    for x in range(0, length // 2):\n",
    "        i = (pos + x) % arrlen\n",
    "        j = (pos + length - 1 -x) % arrlen\n",
    "        arr[i], arr[j] = arr[j], arr[i]\n",
    "        \n",
    "def knot_hash(input_lengths, arr, rounds=1):\n",
    "    skip = 0\n",
    "    pos = 0\n",
    "    for r in range(0,rounds):\n",
    "        for length in input_lengths:\n",
    "            circular_list_reverse(arr, pos, length)\n",
    "            pos += length + skip\n",
    "            skip += 1\n",
    "    return arr"
   ]
  },
  {
   "cell_type": "code",
   "execution_count": 94,
   "metadata": {},
   "outputs": [],
   "source": [
    "assert(knot_hash([3,4,1,5], list(range(0, 5)))) == [3, 4, 2, 1, 0]"
   ]
  },
  {
   "cell_type": "code",
   "execution_count": 95,
   "metadata": {},
   "outputs": [
    {
     "data": {
      "text/plain": [
       "38415"
      ]
     },
     "execution_count": 95,
     "metadata": {},
     "output_type": "execute_result"
    }
   ],
   "source": [
    "output = knot_hash(csv_line_to_int_array(Input(10).read()), list(range(0, 256)))\n",
    "output[0] * output[1]"
   ]
  },
  {
   "cell_type": "markdown",
   "metadata": {},
   "source": [
    "## Part 2\n",
    "> First, from now on, your input should be taken not as a list of numbers, but as a string of bytes instead. Unless otherwise specified, convert characters to bytes using their ASCII codes. This will allow you to handle arbitrary ASCII strings, and it also ensures that your input lengths are never larger than 255.\n",
    "\n",
    "> Once you have determined the sequence of lengths to use, add the following lengths to the end of the sequence: 17, 31, 73, 47, 23.\n",
    "\n",
    "> Second, instead of merely running one round like you did above, run a total of 64 rounds, using the same length sequence in each round. The current position and skip size should be preserved between rounds. \n",
    "\n",
    "> Once the rounds are complete, you will be left with the numbers from 0 to 255 in some order, called the sparse hash. Your next task is to reduce these to a list of only 16 numbers called the dense hash. To do this, use numeric bitwise XOR to combine each consecutive block of 16 numbers in the sparse hash (there are 16 such blocks in a list of 256 numbers). "
   ]
  },
  {
   "cell_type": "markdown",
   "metadata": {},
   "source": [
    "One thing to note about Python is the difference between `list.append()` which mutates the list by adding an object to the end, `list.extend()` which mutates a list by extending it with an iterable, and `+` which is an overload which is like `extend` but creates a new list."
   ]
  },
  {
   "cell_type": "code",
   "execution_count": 96,
   "metadata": {},
   "outputs": [],
   "source": [
    "def input_to_ascii_bytes(str):\n",
    "    \"Returns a list with the ASCII numeric codes of each character of the input.\"\n",
    "    return [ord(c) for c in str]\n",
    "\n",
    "def preprocess_p2(arr):\n",
    "    \"Return a new list that is the extension of the given list with some fixed values.\"\n",
    "    return arr + [17, 31, 73, 47, 23]\n",
    "\n",
    "assert(preprocess_p2(input_to_ascii_bytes(\"1,2,3\"))) == [49,44,50,44,51,17, 31, 73, 47, 23]"
   ]
  },
  {
   "cell_type": "code",
   "execution_count": 97,
   "metadata": {},
   "outputs": [],
   "source": [
    "def xor_list(arr):\n",
    "    \"Returns the bitwise XOR of the elements of the list.\"\n",
    "    return reduce(lambda xor, i: xor ^ i, arr)\n",
    "assert(xor_list([65, 27, 9, 1, 4, 3, 40, 50, 91, 7, 6, 0, 2, 5, 68, 22])) == 64"
   ]
  },
  {
   "cell_type": "code",
   "execution_count": 98,
   "metadata": {},
   "outputs": [],
   "source": [
    "def dense_hash(sparse):\n",
    "    \"Return the bitwise XOR of groups of 16 elements from sparse, returning a list of len(sparse)/16 elements\"\n",
    "    return [xor_list(range) for range in [sparse[a:a+16] for a in range(0, len(sparse), 16)]]"
   ]
  },
  {
   "cell_type": "markdown",
   "metadata": {},
   "source": [
    "Python's `hex()` method returns a value prefixed with `0x`. Using a format string allows us to specify padding with leading zero, number of digits and conversion type, etc."
   ]
  },
  {
   "cell_type": "code",
   "execution_count": 99,
   "metadata": {},
   "outputs": [],
   "source": [
    "def full_knot_hash(input):\n",
    "    lengths = preprocess_p2(input_to_ascii_bytes(input))\n",
    "    sparse_hash = knot_hash(lengths, list(range(0, 256)), 64)\n",
    "    dense = dense_hash(sparse_hash)                \n",
    "    return ''.join([\"%0.2x\" % num for num in dense])"
   ]
  },
  {
   "cell_type": "code",
   "execution_count": 100,
   "metadata": {},
   "outputs": [],
   "source": [
    "assert(full_knot_hash(\"\")) == \"a2582a3a0e66e6e86e3812dcb672a272\"\n",
    "assert(full_knot_hash(\"AoC 2017\")) == \"33efeb34ea91902bb2f59c9920caa6cd\"\n",
    "assert(full_knot_hash(\"1,2,3\")) == \"3efbe78a8d82f29979031a4aa0b16a9d\"\n",
    "assert(full_knot_hash(\"1,2,4\")) == \"63960835bcdc130f0b66d7ff4f6a5a8e\""
   ]
  },
  {
   "cell_type": "code",
   "execution_count": 101,
   "metadata": {},
   "outputs": [
    {
     "data": {
      "text/plain": [
       "'9de8846431eef262be78f590e39a4848'"
      ]
     },
     "execution_count": 101,
     "metadata": {},
     "output_type": "execute_result"
    }
   ],
   "source": [
    "full_knot_hash(Input(10).read())"
   ]
  },
  {
   "cell_type": "markdown",
   "metadata": {},
   "source": [
    "# Day 11\n",
    "## Part 1\n",
    "> The hexagons (\"hexes\") in this grid are aligned such that adjacent hexes can be found to the north, northeast, southeast, south, southwest, and northwest. You have the path the child process took. Starting where he started, you need to determine the fewest number of steps required to reach him\n",
    "\n",
    "This one I needed help with representation and algorithms. Fortunately, Red Blog Games has a [comprehensive guide](https://www.redblobgames.com/grids/hexagons/) on hexagonal grids. I decided to use the cube coordinate system as that gave a simple algorithm."
   ]
  },
  {
   "cell_type": "code",
   "execution_count": 102,
   "metadata": {},
   "outputs": [],
   "source": [
    "def hex_grid_distance(a, b):\n",
    "    \"Return the distance between two points as cube coordinates on a hex grid.\"\n",
    "    return (abs(a[0] - b[0]) + abs(a[1] - b[1]) + abs(a[2] - b[2])) / 2\n",
    "\n",
    "def walk(steps):\n",
    "    \"Given a list of steps from the set of strings: [nw, n, ne, sw, s, se], map each direction using cube coordinates, and return the resulting hex grid as a cube coordinate.\"\n",
    "    pos = (0,0,0) # (x,y,z)\n",
    "    max_dist = 0\n",
    "    for step in steps:\n",
    "        if step == 'n':\n",
    "            pos = (pos[0]+1, pos[1], pos[2]-1)\n",
    "        elif step == 'nw':\n",
    "            pos = (pos[0], pos[1]+1, pos[2]-1)\n",
    "        elif step == 'ne':\n",
    "            pos = (pos[0]+1, pos[1]-1, pos[2])\n",
    "        elif step == 's':\n",
    "            pos = (pos[0]-1, pos[1], pos[2]+1)\n",
    "        elif step == 'sw':\n",
    "            pos = (pos[0]-1, pos[1]+1, pos[2])\n",
    "        elif step == 'se':\n",
    "            pos = (pos[0], pos[1]-1, pos[2]+1)\n",
    "        dist = hex_grid_distance((0,0,0), pos)\n",
    "        if dist > max_dist:\n",
    "            max_dist = dist\n",
    "    return pos, max_dist"
   ]
  },
  {
   "cell_type": "code",
   "execution_count": 103,
   "metadata": {},
   "outputs": [],
   "source": [
    "dest, max_dist = walk(Input(11).read().split(','))"
   ]
  },
  {
   "cell_type": "code",
   "execution_count": 104,
   "metadata": {},
   "outputs": [
    {
     "data": {
      "text/plain": [
       "698.0"
      ]
     },
     "execution_count": 104,
     "metadata": {},
     "output_type": "execute_result"
    }
   ],
   "source": [
    "hex_grid_distance((0,0,0), dest)"
   ]
  },
  {
   "cell_type": "code",
   "execution_count": 105,
   "metadata": {},
   "outputs": [
    {
     "data": {
      "text/plain": [
       "1435.0"
      ]
     },
     "execution_count": 105,
     "metadata": {},
     "output_type": "execute_result"
    }
   ],
   "source": [
    "max_dist"
   ]
  },
  {
   "cell_type": "markdown",
   "metadata": {},
   "source": [
    "# Day 12\n",
    "## Part 1\n",
    "> You walk through the village and record the ID of each program and the IDs with which it can communicate directly (your puzzle input). Each program has one or more programs with which it can communicate, and these pipes are bidirectional; if 8 says it can communicate with 11, then 11 will say it can communicate with 8.\n",
    "\n",
    "> You need to figure out how many programs are in the group that contains program ID 0.\n",
    "\n",
    "This input shows the neighbours of every program. I initially searched for information about spanning trees and connected graphs, but quickly realized that the input is just an [adjacency list](https://en.wikipedia.org/wiki/Adjacency_list). A simple way to solve this part would be to just recursively add nodes as we traverse the children of ID 0. I peeked at the pseudocode in one of the answers in this [Stack Overflow post](https://stackoverflow.com/questions/21864857/find-all-connected-nodes-in-adjacency-list)! However, the examples use a directed graph, whereas ours is bidirectional, so we need to ensure we don't recurse infinitely."
   ]
  },
  {
   "cell_type": "code",
   "execution_count": 106,
   "metadata": {},
   "outputs": [],
   "source": [
    "def get_group(program_id, adjacency, g):\n",
    "    \"Compute the connected nodes of the given ID in the adjacency list, using a running set to keep track. Return set of nodes.\"\n",
    "    if program_id not in g:\n",
    "        g.add(program_id)\n",
    "    for n in adjacency[program_id]:\n",
    "        if n not in g:\n",
    "            g.add(n)\n",
    "            get_group(n, adjacency, g)\n",
    "    return g\n",
    "    \n",
    "def parse_communication_list(lines):\n",
    "    \"Build a map of program ID communication partners, indexed by program ID. That is, the adjacency list of each program ID.\"\n",
    "    adjacency = defaultdict(lambda: [])\n",
    "    for entry in lines:\n",
    "        groups = re.match(r\"(\\d+) <-> (.*)\", entry)\n",
    "        program_id = int(groups[1])\n",
    "        neighbors = [int(x) for x in groups[2].split(',')]\n",
    "        adjacency[program_id] = neighbors\n",
    "    return adjacency"
   ]
  },
  {
   "cell_type": "code",
   "execution_count": 107,
   "metadata": {},
   "outputs": [],
   "source": [
    "test = \"\"\"0 <-> 2\n",
    "1 <-> 1\n",
    "2 <-> 0, 3, 4\n",
    "3 <-> 2, 4\n",
    "4 <-> 2, 3, 6\n",
    "5 <-> 6\n",
    "6 <-> 4, 5\"\"\"\n",
    "adj = parse_communication_list(test.split('\\n'))\n",
    "assert(get_group(0, adj, set())) == set([0,2,3,4,6,5])"
   ]
  },
  {
   "cell_type": "code",
   "execution_count": 108,
   "metadata": {},
   "outputs": [
    {
     "data": {
      "text/plain": [
       "239"
      ]
     },
     "execution_count": 108,
     "metadata": {},
     "output_type": "execute_result"
    }
   ],
   "source": [
    "adj = parse_communication_list(Input(12).readlines())\n",
    "len(get_group(0, adj, set()))"
   ]
  },
  {
   "cell_type": "markdown",
   "metadata": {},
   "source": [
    "## Part 2\n",
    "> A group is a collection of programs that can all communicate via pipes either directly or indirectly. The programs you identified just a moment ago are all part of the same group. Now, they would like you to determine the total number of groups.\n",
    "\n",
    "A straightforward way is to maintain a set of program IDs who are not part of a group, initially, the entire group. While this set is not empty, pick one at random, compute the connected group, and remove those elements from the larger group. "
   ]
  },
  {
   "cell_type": "code",
   "execution_count": 109,
   "metadata": {},
   "outputs": [
    {
     "data": {
      "text/plain": [
       "215"
      ]
     },
     "execution_count": 109,
     "metadata": {},
     "output_type": "execute_result"
    }
   ],
   "source": [
    "adj = parse_communication_list(Input(12).readlines())\n",
    "all_programs = set(adj.keys())\n",
    "total_groups = 0\n",
    "while len(all_programs) > 0:\n",
    "    group = get_group(all_programs.pop(), adj, set())\n",
    "    total_groups += 1\n",
    "    all_programs = all_programs.difference(group)\n",
    "total_groups"
   ]
  },
  {
   "cell_type": "markdown",
   "metadata": {},
   "source": [
    "# Day 13\n",
    "## Part 1\n",
    "> By studying the firewall briefly, you are able to record (in your puzzle input) the **depth** of each layer and the **range** of the scanning area for the scanner within it, written as depth: range. Each layer has a thickness of exactly 1. A layer at depth 0 begins immediately inside the firewall; a layer at depth 1 would start immediately after that.\n",
    "\n",
    "> Visually, it might look like this:\n",
    "```\n",
    " 0   1   2   3   4   5   6\n",
    "[ ] [ ] ... ... [ ] ... [ ]\n",
    "[ ] [ ]         [ ]     [ ]\n",
    "[ ]             [ ]     [ ]\n",
    "                [ ]     [ ]\n",
    "```\n",
    "> Within each layer, a security scanner moves back and forth within its range. Each security scanner starts at the top and moves down until it reaches the bottom, then moves up until it reaches the top, and repeats. A security scanner takes **one picosecond** to move one step. \n",
    "> Your plan is to hitch a ride on a packet about to move through the firewall. The packet will travel along the top of each layer, and it moves at **one layer per picosecond**. Each picosecond, the packet moves one layer forward (its first move takes it into layer 0), and then the scanners move one step. If there is a scanner at the top of the layer **as your packet enters it**, you are **caught**. (If a scanner moves into the top of its layer while you are there, you are not caught: it doesn't have time to notice you before you leave.) \n",
    "> The **severity** of getting caught on a layer is equal to its **depth** multiplied by its **range**. (Ignore layers in which you do not get caught.)\n",
    "\n",
    "Note that each scanner's position is independent of the others, and the only information we need to predict where a scanner will be at a given instant in time is its depth and range. Since we only care about whether we are caught or not, it suffices to figure out how many of the scanners will be at the top when we enter it."
   ]
  },
  {
   "cell_type": "code",
   "execution_count": 110,
   "metadata": {},
   "outputs": [],
   "source": [
    "def scanner_position(_d, _r, _t):\n",
    "    \"Given the specified scanner, with an initial position of 0 (the top) at time 0, return the scanner's position (a value between 0 and _range-1) at the *beginning* of the picosecond given by _t.\"\n",
    "\n",
    "    # Period is how many time units before scanner positions repeat. The scanner goes backward\n",
    "    # when it reaches the end, without repeating the last element, nor the first. So the\n",
    "    # period is _r + _r - 2.\n",
    "    p = (_r - 1) * 2\n",
    "\n",
    "    # Consider the indices mod the period. So the indices would be [0, p-1] and\n",
    "    # _t % p gives the correct scanner position for the first _r-1 times. For the\n",
    "    # remaining ones, the position gets smaller, the further you are from _r-1.\n",
    "    tmodp = _t % p\n",
    "    return tmodp if tmodp < _r else p - tmodp"
   ]
  },
  {
   "cell_type": "markdown",
   "metadata": {},
   "source": [
    "To calculate the penalty, we just need to get all time instances when the scanner is in the first position:"
   ]
  },
  {
   "cell_type": "code",
   "execution_count": 111,
   "metadata": {},
   "outputs": [],
   "source": [
    "def severity(_d, _r):\n",
    "    return _d * _r\n",
    "\n",
    "def predict_all_future_positions(firewall, t=0):\n",
    "    \"Generate an array of the position of each scanner, at the instant when the packet enters that layer, starting at beginning of given time.\"\n",
    "    return [scanner_position(d, firewall[d], t + d) if d in firewall else None for d in range(0, max(firewall.keys())+1)]\n",
    "\n",
    "def snapshot_positions(firewall, t=0):\n",
    "    \"Generate an array of the position of each scanner, at the beginning of an instant in time.\"\n",
    "    return [scanner_position(d, firewall[d], t) if d in firewall else None for d in range(0, max(firewall.keys())+1)]\n",
    "\n",
    "def trip_severity(firewall, delay=0):\n",
    "    \"Calculate the total trip severity, the sum of the severities at each layer.\"\n",
    "    pos = predict_all_future_positions(firewall, delay)\n",
    "    return sum([severity(ind, firewall[ind]) if s != None and s == 0 else 0 for ind, s in enumerate(pos)])"
   ]
  },
  {
   "cell_type": "code",
   "execution_count": 112,
   "metadata": {},
   "outputs": [],
   "source": [
    "test = {0: 3,1: 2,4: 4,6: 4}\n",
    "assert(trip_severity(test)) == 24"
   ]
  },
  {
   "cell_type": "code",
   "execution_count": 113,
   "metadata": {},
   "outputs": [
    {
     "data": {
      "text/plain": [
       "1904"
      ]
     },
     "execution_count": 113,
     "metadata": {},
     "output_type": "execute_result"
    }
   ],
   "source": [
    "def read_packet_scanner(lines):\n",
    "    \"Parse each line as a scanner definition, and return a dictionary.\"\n",
    "    d = {}\n",
    "    for line in lines:\n",
    "        g = re.match(r\"(\\d+): (\\d+)\", line)\n",
    "        d[int(g[1])] = int(g[2])\n",
    "    return d\n",
    "\n",
    "firewall = read_packet_scanner(Input(13).readlines())\n",
    "trip_severity(firewall)"
   ]
  },
  {
   "cell_type": "markdown",
   "metadata": {},
   "source": [
    "## Part 2\n",
    "> Now, you need to pass through the firewall without being caught - easier said than done.\n",
    "\n",
    "> You can't control the speed of the packet, but you can delay it any number of picoseconds. For each picosecond you delay the packet before beginning your trip, all security scanners move one step. You're not in the firewall during this time; you don't enter layer 0 until you stop delaying the packet.\n",
    "\n",
    "> Because all smaller delays would get you caught, the fewest number of picoseconds you would need to delay to get through safely is 10.\n",
    "\n",
    "> What is the fewest number of picoseconds that you need to delay the packet to pass through the firewall without being caught?\n",
    "\n",
    "I initially tried iterating over delay values, and checking their trip severities but my solution to the example and the full input were failing. After a bit debugging, I realized that a trip severity of **0** does not mean you don't get caught, since the penalty for getting caught in the first layer is 0."
   ]
  },
  {
   "cell_type": "code",
   "execution_count": 114,
   "metadata": {},
   "outputs": [],
   "source": [
    "def is_caught(firewall, t=0):\n",
    "    \"Return boolean indicating whether you would get caught traversing the firewall beginning at the specified time.\"\n",
    "    return any(p == 0 for p in predict_all_future_positions(firewall, t))\n",
    "    \n",
    "def find_delay_without_caught(firewall):\n",
    "    delay = 0\n",
    "    caught = is_caught(firewall, delay)\n",
    "    while caught:\n",
    "        delay += 1\n",
    "        caught = is_caught(firewall, delay)\n",
    "    return delay"
   ]
  },
  {
   "cell_type": "code",
   "execution_count": 115,
   "metadata": {},
   "outputs": [],
   "source": [
    "assert(find_delay_without_caught(test)) == 10"
   ]
  },
  {
   "cell_type": "code",
   "execution_count": 116,
   "metadata": {},
   "outputs": [],
   "source": [
    "# The following takes a long time (~2 minutes) to get the right answer (3833504)\n",
    "#find_delay_without_caught(firewall)"
   ]
  },
  {
   "cell_type": "markdown",
   "metadata": {},
   "source": [
    "Potential speedups for above: there are a few layers with range 2, so they are in position 0 every other picosecond. So we could increment the delay by 2 instead of 1?"
   ]
  },
  {
   "cell_type": "markdown",
   "metadata": {},
   "source": [
    "# Day 14\n",
    "## Part 1\n",
    "> The disk in question consists of a 128x128 grid; each square of the grid is either free or used. On this disk, the state of the grid is tracked by the bits in a sequence of knot hashes.\n",
    "\n",
    "> A total of 128 knot hashes are calculated, each corresponding to a single row in the grid; each hash contains 128 bits which correspond to individual grid squares. Each bit of a hash indicates whether that square is free (0) or used (1).\n",
    "\n",
    "> The hash inputs are a key string (your puzzle input), a dash, and a number from 0 to 127 corresponding to the row. For example, if your key string were flqrgnkx, then the first row would be given by the bits of the knot hash of flqrgnkx-0, the second row from the bits of the knot hash of flqrgnkx-1, and so on until the last row, flqrgnkx-127.\n",
    "\n",
    "> Given your actual key string, how many squares are used?\n",
    "\n",
    "This is straightforward. Use a lookup table to match each hexadecimal digit to the number of bits, then sum."
   ]
  },
  {
   "cell_type": "code",
   "execution_count": 138,
   "metadata": {},
   "outputs": [],
   "source": [
    "def bits_set(hexchar):\n",
    "    return {'0':0, '1':1, '2':1, '3': 2,\n",
    "            '4':1, '5':2, '6':2, '7': 3,\n",
    "            '8':1, '9':2, 'a':2, 'b': 3,\n",
    "            'c':2, 'd':3, 'e':3, 'f': 4}[hexchar]\n",
    "\n",
    "def defragment_count(input):\n",
    "    grid = [full_knot_hash(K) for K in [\"%s-%d\" % (input, i) for i in range(128)]]\n",
    "    return sum([bits_set(h) for line in grid for h in line])"
   ]
  },
  {
   "cell_type": "markdown",
   "metadata": {},
   "source": [
    "The syntax for a nested list comprehension (without creating a list of lists) was not obvious to me!"
   ]
  },
  {
   "cell_type": "code",
   "execution_count": 139,
   "metadata": {},
   "outputs": [
    {
     "data": {
      "text/plain": [
       "8230"
      ]
     },
     "execution_count": 139,
     "metadata": {},
     "output_type": "execute_result"
    }
   ],
   "source": [
    "test = 'flqrgnkx'\n",
    "assert(defragment_count(test)) == 8108\n",
    "\n",
    "input = 'hfdlxzhv'\n",
    "defragment_count(input)"
   ]
  },
  {
   "cell_type": "markdown",
   "metadata": {},
   "source": [
    "## Part 2"
   ]
  },
  {
   "cell_type": "code",
   "execution_count": null,
   "metadata": {},
   "outputs": [],
   "source": []
  }
 ],
 "metadata": {
  "kernelspec": {
   "display_name": "Python 3",
   "language": "python",
   "name": "python3"
  },
  "language_info": {
   "codemirror_mode": {
    "name": "ipython",
    "version": 3
   },
   "file_extension": ".py",
   "mimetype": "text/x-python",
   "name": "python",
   "nbconvert_exporter": "python",
   "pygments_lexer": "ipython3",
   "version": "3.6.3"
  }
 },
 "nbformat": 4,
 "nbformat_minor": 2
}
