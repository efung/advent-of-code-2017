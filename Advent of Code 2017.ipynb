{
 "cells": [
  {
   "cell_type": "code",
   "execution_count": 3,
   "metadata": {},
   "outputs": [],
   "source": [
    "# Python 3.x\n",
    "import re\n",
    "import math\n",
    "\n",
    "def Input(day):\n",
    "    \"Open this day's input file.\"\n",
    "    filename = 'inputs/{}.txt'.format(day)\n",
    "    try:\n",
    "        return open(filename)\n",
    "    except FileNotFoundError:\n",
    "        print(\"Oops, couldn't open input\")\n"
   ]
  },
  {
   "cell_type": "markdown",
   "metadata": {},
   "source": [
    "# Day 1 - Inverse Captcha\n",
    "## Part 1"
   ]
  },
  {
   "cell_type": "markdown",
   "metadata": {},
   "source": [
    "> The captcha requires you to review a sequence of digits (your puzzle input) and find the sum of all digits that match the next digit in the list. The list is circular, so the digit after the last digit is the first digit in the list."
   ]
  },
  {
   "cell_type": "markdown",
   "metadata": {},
   "source": [
    "This could be done by reading the digits into an array, then reducing them. As a Python noob, I read that for clarity, list comprehensions are preferred over lambdas, e.g. see Guido van Rossum's [post](http://www.artima.com/weblogs/viewpost.jsp?thread=98196) from 2005. However, list comprehensions produce lists, whereas reduce produces a single output. Van Rossum concedes that `reduce()` may be used when the operator is associative, so I'm going to go ahead with `reduce()`."
   ]
  },
  {
   "cell_type": "code",
   "execution_count": 4,
   "metadata": {},
   "outputs": [],
   "source": [
    "from functools import reduce"
   ]
  },
  {
   "cell_type": "code",
   "execution_count": 5,
   "metadata": {},
   "outputs": [
    {
     "data": {
      "text/plain": [
       "1141"
      ]
     },
     "execution_count": 5,
     "metadata": {},
     "output_type": "execute_result"
    }
   ],
   "source": [
    "def chars_to_int_array(str):\n",
    "    \"Given a string of digits, returns them as an array of integers\"\n",
    "    return [int(ch) for ch in str]\n",
    "\n",
    "def circular_list_next_item(list, index, offset=1): \n",
    "    \"Returns the list item that is 'offset' elements away after the one given by the index; the item after the last item is the first item\"\n",
    "    return list[(index + offset) % len(list)]\n",
    "\n",
    "def inverse_captcha_1(arr):\n",
    "    \"Returns sum of digits in array that match the next digit, treating list as circular.\"\n",
    "    return reduce(lambda sum, i: sum + (arr[i] if circular_list_next_item(arr, i) == arr[i] else 0), range(len(arr)), 0)\n",
    "    \n",
    "\n",
    "assert inverse_captcha_1(chars_to_int_array(\"1122\")) == 3\n",
    "assert inverse_captcha_1(chars_to_int_array(\"1111\")) == 4\n",
    "assert inverse_captcha_1(chars_to_int_array(\"1234\")) == 0\n",
    "assert inverse_captcha_1(chars_to_int_array(\"91212129\")) == 9\n",
    "\n",
    "inverse_captcha_1(chars_to_int_array(Input(1).read().rstrip(\"\\n\")))"
   ]
  },
  {
   "cell_type": "markdown",
   "metadata": {},
   "source": [
    "## Part 2"
   ]
  },
  {
   "cell_type": "markdown",
   "metadata": {},
   "source": [
    "Now, instead of considering the next digit, it wants you to consider the digit halfway around the circular list. Fortunately, your list has an even number of elements"
   ]
  },
  {
   "cell_type": "code",
   "execution_count": 6,
   "metadata": {},
   "outputs": [
    {
     "data": {
      "text/plain": [
       "950"
      ]
     },
     "execution_count": 6,
     "metadata": {},
     "output_type": "execute_result"
    }
   ],
   "source": [
    "def inverse_captcha_2(arr):\n",
    "    \"Returns sum of digits in array that match the digit that is halfway around, treating list as circular.\"\n",
    "    return reduce(lambda sum, i: sum + (arr[i] if circular_list_next_item(arr, i, len(arr)//2) == arr[i] else 0), range(len(arr)), 0)\n",
    "\n",
    "assert inverse_captcha_2(chars_to_int_array(\"1212\")) == 6\n",
    "assert inverse_captcha_2(chars_to_int_array(\"1221\")) == 0\n",
    "assert inverse_captcha_2(chars_to_int_array(\"123425\")) == 4\n",
    "assert inverse_captcha_2(chars_to_int_array(\"123123\")) == 12\n",
    "assert inverse_captcha_2(chars_to_int_array(\"12131415\")) == 4\n",
    "\n",
    "inverse_captcha_2(chars_to_int_array(Input(1).read().rstrip(\"\\n\")))"
   ]
  },
  {
   "cell_type": "markdown",
   "metadata": {},
   "source": [
    "# Day 2"
   ]
  },
  {
   "cell_type": "markdown",
   "metadata": {},
   "source": [
    "## Part 1\n",
    "> The spreadsheet consists of rows of apparently-random numbers. To make sure the recovery process is on the right track, they need you to calculate the spreadsheet's checksum. For each row, determine the difference between the largest value and the smallest value; the checksum is the sum of all of these differences.\n",
    "\n",
    "Initially, I thought I could iterate over each row, keep track of the max and min and subtract. But it's a lot easier to just call the built-in `max` and `min`. Both methods have `O(n)` running time."
   ]
  },
  {
   "cell_type": "code",
   "execution_count": 39,
   "metadata": {},
   "outputs": [
    {
     "data": {
      "text/plain": [
       "37923"
      ]
     },
     "execution_count": 39,
     "metadata": {},
     "output_type": "execute_result"
    }
   ],
   "source": [
    "def line_to_int_array(line):\n",
    "    \"Given a string with whitespace-separated numbers, parse it as an array of integers\"\n",
    "    return [int(n) for n in line.split()]\n",
    "\n",
    "def lines_to_int_arrays(lines):\n",
    "    \"Given a multi-line string, each with whitespace-separated numbers, return an array of arrays of integers\"\n",
    "    return [line_to_int_array(L) for L in lines]\n",
    "    \n",
    "def max_subtract_min(L):\n",
    "    \"Return the largest element minus the smallest element\"\n",
    "    return max(L) - min(L)\n",
    "\n",
    "assert(sum([max_subtract_min(L) for L in lines_to_int_arrays(\"5 1 9 5\\n7 5 3\\n2 4 6 8\".split(\"\\n\"))])) == 18\n",
    "\n",
    "sum([max_subtract_min(L) for L in lines_to_int_arrays(Input(2).readlines())])"
   ]
  },
  {
   "cell_type": "markdown",
   "metadata": {},
   "source": [
    "## Part 2\n",
    "> It sounds like the goal is to find the only two numbers in each row where one evenly divides the other - that is, where the result of the division operation is a whole number. They would like you to find those numbers on each line, divide them, and add up each line's result."
   ]
  },
  {
   "cell_type": "markdown",
   "metadata": {},
   "source": [
    "I had a lot of ideas of how to solve this. Clearly, we need to consider all pairs of numbers within each row. Sorting each row's numbers first, would simplify things a little, because we could always divide the smaller into the larger, by having two loops, one from each end. Or, perhaps we could apply a modulo operator, look for the single entry with zero, but that's wasteful, as we don't abort early. \n",
    "\n",
    "In the end, I preferred the simpler double for-loop, and having to compute the max/min within the inner block, since it didn't requiring any sorting, or reversing."
   ]
  },
  {
   "cell_type": "code",
   "execution_count": 45,
   "metadata": {},
   "outputs": [
    {
     "data": {
      "text/plain": [
       "263"
      ]
     },
     "execution_count": 45,
     "metadata": {},
     "output_type": "execute_result"
    }
   ],
   "source": [
    "def quotient_of_divisible_elements(L):\n",
    "    \"Given a list of numbers in which there are two numbers where one exactly divides the other, return the quotient between them.\"\n",
    "    for i in range(0, len(L)-1):\n",
    "        for j in range(i+1, len(L)):\n",
    "            p = max(L[i], L[j])\n",
    "            q = min(L[i], L[j])\n",
    "            if p % q == 0:\n",
    "                return p // q\n",
    "\n",
    "assert(sum([quotient_of_divisible_elements(L) for L in lines_to_int_arrays(\"5 9 2 8\\n9 4 7 3\\n3 8 6 5\".split(\"\\n\"))])) == 9\n",
    "\n",
    "sum([quotient_of_divisible_elements(L) for L in lines_to_int_arrays(Input(2).readlines())])"
   ]
  }
 ],
 "metadata": {
  "kernelspec": {
   "display_name": "Python 3",
   "language": "python",
   "name": "python3"
  },
  "language_info": {
   "codemirror_mode": {
    "name": "ipython",
    "version": 3
   },
   "file_extension": ".py",
   "mimetype": "text/x-python",
   "name": "python",
   "nbconvert_exporter": "python",
   "pygments_lexer": "ipython3",
   "version": "3.6.3"
  }
 },
 "nbformat": 4,
 "nbformat_minor": 2
}
