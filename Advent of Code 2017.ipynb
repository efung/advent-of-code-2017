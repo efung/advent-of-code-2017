{
 "cells": [
  {
   "cell_type": "code",
   "execution_count": 11,
   "metadata": {},
   "outputs": [],
   "source": [
    "# Python 3.x\n",
    "import re\n",
    "import math\n",
    "\n",
    "def Input(day):\n",
    "    \"Open this day's input file.\"\n",
    "    filename = 'inputs/{}.txt'.format(day)\n",
    "    try:\n",
    "        return open(filename)\n",
    "    except FileNotFoundError:\n",
    "        print(\"Oops, couldn't open input\")\n"
   ]
  },
  {
   "cell_type": "markdown",
   "metadata": {},
   "source": [
    "# Day 1 - Inverse Captcha\n",
    "## Part 1"
   ]
  },
  {
   "cell_type": "markdown",
   "metadata": {},
   "source": [
    "> The captcha requires you to review a sequence of digits (your puzzle input) and find the sum of all digits that match the next digit in the list. The list is circular, so the digit after the last digit is the first digit in the list."
   ]
  },
  {
   "cell_type": "markdown",
   "metadata": {},
   "source": [
    "This could be done by reading the digits into an array, then reducing them. As a Python noob, I read that for clarity, list comprehensions are preferred over lambdas, e.g. see Guido van Rossum's [post](http://www.artima.com/weblogs/viewpost.jsp?thread=98196) from 2005. However, list comprehensions produce lists, whereas reduce produces a single output. Van Rossum concedes that `reduce()` may be used when the operator is associative, so I'm going to go ahead with `reduce()`."
   ]
  },
  {
   "cell_type": "code",
   "execution_count": 12,
   "metadata": {},
   "outputs": [],
   "source": [
    "from functools import reduce"
   ]
  },
  {
   "cell_type": "code",
   "execution_count": 13,
   "metadata": {},
   "outputs": [
    {
     "data": {
      "text/plain": [
       "1141"
      ]
     },
     "execution_count": 13,
     "metadata": {},
     "output_type": "execute_result"
    }
   ],
   "source": [
    "def chars_to_int_array(str):\n",
    "    \"Given a string of digits, returns them as an array of integers\"\n",
    "    return [int(ch) for ch in str]\n",
    "\n",
    "def circular_list_next_item(list, index, offset=1): \n",
    "    \"Returns the list item that is 'offset' elements away after the one given by the index; the item after the last item is the first item\"\n",
    "    return list[(index + offset) % len(list)]\n",
    "\n",
    "def inverse_captcha_1(arr):\n",
    "    \"Returns sum of digits in array that match the next digit, treating list as circular.\"\n",
    "    return reduce(lambda sum, i: sum + (arr[i] if circular_list_next_item(arr, i) == arr[i] else 0), range(len(arr)), 0)\n",
    "    \n",
    "\n",
    "assert inverse_captcha_1(chars_to_int_array(\"1122\")) == 3\n",
    "assert inverse_captcha_1(chars_to_int_array(\"1111\")) == 4\n",
    "assert inverse_captcha_1(chars_to_int_array(\"1234\")) == 0\n",
    "assert inverse_captcha_1(chars_to_int_array(\"91212129\")) == 9\n",
    "\n",
    "inverse_captcha_1(chars_to_int_array(Input(1).read().rstrip(\"\\n\")))"
   ]
  },
  {
   "cell_type": "markdown",
   "metadata": {},
   "source": [
    "## Part 2"
   ]
  },
  {
   "cell_type": "markdown",
   "metadata": {},
   "source": [
    "Now, instead of considering the next digit, it wants you to consider the digit halfway around the circular list. Fortunately, your list has an even number of elements"
   ]
  },
  {
   "cell_type": "code",
   "execution_count": 14,
   "metadata": {},
   "outputs": [
    {
     "data": {
      "text/plain": [
       "950"
      ]
     },
     "execution_count": 14,
     "metadata": {},
     "output_type": "execute_result"
    }
   ],
   "source": [
    "def inverse_captcha_2(arr):\n",
    "    \"Returns sum of digits in array that match the digit that is halfway around, treating list as circular.\"\n",
    "    return reduce(lambda sum, i: sum + (arr[i] if circular_list_next_item(arr, i, len(arr)//2) == arr[i] else 0), range(len(arr)), 0)\n",
    "\n",
    "assert inverse_captcha_2(chars_to_int_array(\"1212\")) == 6\n",
    "assert inverse_captcha_2(chars_to_int_array(\"1221\")) == 0\n",
    "assert inverse_captcha_2(chars_to_int_array(\"123425\")) == 4\n",
    "assert inverse_captcha_2(chars_to_int_array(\"123123\")) == 12\n",
    "assert inverse_captcha_2(chars_to_int_array(\"12131415\")) == 4\n",
    "\n",
    "inverse_captcha_2(chars_to_int_array(Input(1).read().rstrip(\"\\n\")))"
   ]
  },
  {
   "cell_type": "markdown",
   "metadata": {},
   "source": [
    "# Day 2"
   ]
  },
  {
   "cell_type": "markdown",
   "metadata": {},
   "source": [
    "## Part 1\n",
    "> The spreadsheet consists of rows of apparently-random numbers. To make sure the recovery process is on the right track, they need you to calculate the spreadsheet's checksum. For each row, determine the difference between the largest value and the smallest value; the checksum is the sum of all of these differences.\n",
    "\n",
    "Initially, I thought I could iterate over each row, keep track of the max and min and subtract. But it's a lot easier to just call the built-in `max` and `min`. Both methods have `O(n)` running time."
   ]
  },
  {
   "cell_type": "code",
   "execution_count": 15,
   "metadata": {},
   "outputs": [
    {
     "data": {
      "text/plain": [
       "37923"
      ]
     },
     "execution_count": 15,
     "metadata": {},
     "output_type": "execute_result"
    }
   ],
   "source": [
    "def line_to_int_array(line):\n",
    "    \"Given a string with whitespace-separated numbers, parse it as an array of integers\"\n",
    "    return [int(n) for n in line.split()]\n",
    "\n",
    "def lines_to_int_arrays(lines):\n",
    "    \"Given a multi-line string, each with whitespace-separated numbers, return an array of arrays of integers\"\n",
    "    return [line_to_int_array(L) for L in lines]\n",
    "    \n",
    "def max_subtract_min(L):\n",
    "    \"Return the largest element minus the smallest element\"\n",
    "    return max(L) - min(L)\n",
    "\n",
    "assert(sum([max_subtract_min(L) for L in lines_to_int_arrays(\"5 1 9 5\\n7 5 3\\n2 4 6 8\".split(\"\\n\"))])) == 18\n",
    "\n",
    "sum([max_subtract_min(L) for L in lines_to_int_arrays(Input(2).readlines())])"
   ]
  },
  {
   "cell_type": "markdown",
   "metadata": {},
   "source": [
    "## Part 2\n",
    "> It sounds like the goal is to find the only two numbers in each row where one evenly divides the other - that is, where the result of the division operation is a whole number. They would like you to find those numbers on each line, divide them, and add up each line's result."
   ]
  },
  {
   "cell_type": "markdown",
   "metadata": {},
   "source": [
    "I had a lot of ideas of how to solve this. Clearly, we need to consider all pairs of numbers within each row. Sorting each row's numbers first, would simplify things a little, because we could always divide the smaller into the larger, by having two loops, one from each end. Or, perhaps we could apply a modulo operator, look for the single entry with zero, but that's wasteful, as we don't abort early. \n",
    "\n",
    "In the end, I preferred the simpler double for-loop, and having to compute the max/min within the inner block, since it didn't requiring any sorting, or reversing."
   ]
  },
  {
   "cell_type": "code",
   "execution_count": 16,
   "metadata": {},
   "outputs": [
    {
     "data": {
      "text/plain": [
       "263"
      ]
     },
     "execution_count": 16,
     "metadata": {},
     "output_type": "execute_result"
    }
   ],
   "source": [
    "def quotient_of_divisible_elements(L):\n",
    "    \"Given a list of numbers in which there are two numbers where one exactly divides the other, return the quotient between them.\"\n",
    "    for i in range(0, len(L)-1):\n",
    "        for j in range(i+1, len(L)):\n",
    "            p = max(L[i], L[j])\n",
    "            q = min(L[i], L[j])\n",
    "            if p % q == 0:\n",
    "                return p // q\n",
    "\n",
    "assert(sum([quotient_of_divisible_elements(L) for L in lines_to_int_arrays(\"5 9 2 8\\n9 4 7 3\\n3 8 6 5\".split(\"\\n\"))])) == 9\n",
    "\n",
    "sum([quotient_of_divisible_elements(L) for L in lines_to_int_arrays(Input(2).readlines())])"
   ]
  },
  {
   "cell_type": "markdown",
   "metadata": {},
   "source": [
    "# Day 3\n",
    "## Part 1\n",
    "Note that the bottom right corner is always the square of an odd number."
   ]
  },
  {
   "cell_type": "code",
   "execution_count": 17,
   "metadata": {},
   "outputs": [
    {
     "name": "stdout",
     "output_type": "stream",
     "text": [
      "430\n",
      "279\n"
     ]
    }
   ],
   "source": [
    "print((559*559)-312051)\n",
    "print(559//2)\n"
   ]
  },
  {
   "cell_type": "markdown",
   "metadata": {},
   "source": [
    "312051 sits somewhere on the bottom row of a grid that is 559 x 559\n",
    "It has to move floor(559/2)=279 steps to get to the row where 1 is\n",
    "If the number was 312481 (559*559) then, it would have to move 279 steps left to get to column where 1 is.\n",
    "If the number was 312481 - floor(559/2) = 312202, it would already be at the column\n",
    "If the number was (312202 - 1) = 312201, it would have to move one to the right\n",
    "The number is (312202 - 151) = 312051 it would have to move 151 to the right\n",
    "So answer is 151 + 279 = 430"
   ]
  },
  {
   "cell_type": "markdown",
   "metadata": {},
   "source": [
    "## Part 2\n",
    "> If we have a function that can tell us the (x,y) of each item, given the square's index, we could easily compute the values by filling them in sequentially, as we could easily get the neighbours from a 2D array.\n",
    "\n",
    "Do the values fit a recurrence relation?\n",
    "Could we figure out a way to map a straight 1d array and coil it?\n",
    "\n",
    "The size of each concentric \"ring\" is:\n",
    "1, 8=2*4, 16=4*4, 24=6*4\n",
    "\n",
    "\n",
    "1 R \n",
    "2 U 3 L 4 L 5 D 6 D 7 R 8 R 9 R\n",
    "10 U 11 U 12 U 13 L 14 L 15 L 16 L 17 D 18 D 19 D 20 D 21 R 22 R 23 R 24 R 25 R\n",
    "\n",
    "Make a really large array, e.g. 559x559. Start in middle. Then keep track of size of spiral we're currently filling, and then fill it.\n",
    "\n"
   ]
  },
  {
   "cell_type": "code",
   "execution_count": 18,
   "metadata": {},
   "outputs": [],
   "source": [
    "def initialize_2d(rows, cols, init_value = 0):\n",
    "    return [ [init_value] * cols for r in range(rows) ]\n",
    "\n",
    "def neighbour_sum(arr, x, y):\n",
    "    \"Return the sum of the adjacent neighbours of arr[x][y], including diagonals\"\n",
    "    rows = len(arr)\n",
    "    cols = len(arr[0])\n",
    "    \n",
    "    if x == (rows // 2) and y == (cols // 2):\n",
    "        return 1\n",
    "    \n",
    "    sum = 0\n",
    "    if (x-1 >= 0):\n",
    "        sum += arr[x-1][y]\n",
    "        if (y-1 >= 0):\n",
    "            sum += arr[x-1][y-1]\n",
    "        if (y+1 <= rows-1):\n",
    "            sum += arr[x-1][y+1]\n",
    "    if (x+1 <= cols-1):    \n",
    "        sum += arr[x+1][y]\n",
    "        if (y-1 >- 0):\n",
    "            sum += arr[x+1][y-1]\n",
    "        if (y+1 <= rows-1):\n",
    "            sum += arr[x+1][y+1]\n",
    "\n",
    "    if (y-1 >- 0):\n",
    "        sum += arr[x][y-1]\n",
    "    if (y+1 <= rows-1):\n",
    "        sum += arr[x][y+1]\n",
    "\n",
    "    return sum"
   ]
  },
  {
   "cell_type": "code",
   "execution_count": 19,
   "metadata": {},
   "outputs": [
    {
     "data": {
      "text/plain": [
       "312453"
      ]
     },
     "execution_count": 19,
     "metadata": {},
     "output_type": "execute_result"
    }
   ],
   "source": [
    "def spiral_index_generator(dim):\n",
    "    generated = 0\n",
    "    \n",
    "    x = dim // 2\n",
    "    y = dim // 2\n",
    "    yield x, y\n",
    "\n",
    "    for spiral_len in range(3, dim+1, 2):\n",
    "        # Each time we start new ring, we are one up\n",
    "        # from bottom right corner\n",
    "        dir_steps = 1\n",
    "        x += 1\n",
    "        for curdir in ['U', 'L', 'D', 'R']:\n",
    "            while dir_steps < spiral_len-1:\n",
    "                yield x, y   \n",
    "\n",
    "                if curdir == 'U':\n",
    "                    y -= 1\n",
    "                elif curdir == 'L':\n",
    "                    x -= 1\n",
    "                elif curdir == 'D':\n",
    "                    y += 1\n",
    "                elif curdir == 'R':\n",
    "                    x += 1\n",
    "                dir_steps += 1\n",
    "                \n",
    "            dir_steps = 0\n",
    "        yield x, y\n",
    "\n",
    "def stress_test(dim, sentinel):\n",
    "    arr = initialize_2d(dim, dim)\n",
    "    for x, y, in spiral_index_generator(dim):\n",
    "        arr[x][y] = neighbour_sum(arr, x, y)\n",
    "        if arr[x][y] > sentinel:\n",
    "            return arr[x][y]\n",
    "\n",
    "stress_test(15, 312051)"
   ]
  },
  {
   "cell_type": "markdown",
   "metadata": {},
   "source": [
    "# Day 4\n",
    "## Part 1\n",
    "> A passphrase consists of a series of words (lowercase letters) separated by spaces. To ensure security, a valid passphrase must contain no duplicate words. How many passphrases are valid?\n",
    "\n",
    "The approach I thought of immediately is to maintain a map from the word to a count of the number of times the word appears on each line. But it's simpler to just put all the words in a set, which automatically removes duplicates."
   ]
  },
  {
   "cell_type": "code",
   "execution_count": 28,
   "metadata": {},
   "outputs": [
    {
     "data": {
      "text/plain": [
       "466"
      ]
     },
     "execution_count": 28,
     "metadata": {},
     "output_type": "execute_result"
    }
   ],
   "source": [
    "def line_to_string_array(line):\n",
    "    \"Given a string with whitespace-separated words, parse it as an array of strings\"\n",
    "    return [n for n in line.split()]\n",
    "\n",
    "def lines_to_string_arrays(lines):\n",
    "    \"Given a multi-line string, each with whitespace-separated words, return an array of arrays of words\"\n",
    "    return [line_to_string_array(L) for L in lines]\n",
    "\n",
    "def duplicate_words(arr):\n",
    "    \"Given an array of words, return true if the array contains duplicate words, false otherwise\"\n",
    "    return len(arr) != len(set(arr))\n",
    "\n",
    "assert(duplicate_words(line_to_string_array(\"aa bb cc dd ee\"))) == False\n",
    "assert(duplicate_words(line_to_string_array(\"aa bb cc dd aa\"))) == True\n",
    "assert(duplicate_words(line_to_string_array(\"aa bb cc dd aaa\"))) == False\n",
    "\n",
    "valid_lines = [duplicate_words(arr) for arr in lines_to_string_arrays(Input(4).readlines())]\n",
    "\n",
    "sum([(1 if not valid else 0) for valid in valid_lines])"
   ]
  },
  {
   "cell_type": "code",
   "execution_count": null,
   "metadata": {},
   "outputs": [],
   "source": []
  }
 ],
 "metadata": {
  "kernelspec": {
   "display_name": "Python 3",
   "language": "python",
   "name": "python3"
  },
  "language_info": {
   "codemirror_mode": {
    "name": "ipython",
    "version": 3
   },
   "file_extension": ".py",
   "mimetype": "text/x-python",
   "name": "python",
   "nbconvert_exporter": "python",
   "pygments_lexer": "ipython3",
   "version": "3.6.3"
  }
 },
 "nbformat": 4,
 "nbformat_minor": 2
}
