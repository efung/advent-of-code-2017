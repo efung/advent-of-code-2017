{
 "cells": [
  {
   "cell_type": "code",
   "execution_count": 27,
   "metadata": {},
   "outputs": [],
   "source": [
    "# Python 3.x\n",
    "import re\n",
    "import math\n",
    "\n",
    "def Input(day):\n",
    "    \"Open this day's input file.\"\n",
    "    filename = 'inputs/{}.txt'.format(day)\n",
    "    try:\n",
    "        return open(filename)\n",
    "    except FileNotFoundError:\n",
    "        print(\"Oops, couldn't open input\")\n"
   ]
  },
  {
   "cell_type": "markdown",
   "metadata": {},
   "source": [
    "# Day 1 - Inverse Captcha\n",
    "## Part 1"
   ]
  },
  {
   "cell_type": "markdown",
   "metadata": {},
   "source": [
    "> The captcha requires you to review a sequence of digits (your puzzle input) and find the sum of all digits that match the next digit in the list. The list is circular, so the digit after the last digit is the first digit in the list."
   ]
  },
  {
   "cell_type": "markdown",
   "metadata": {},
   "source": [
    "This could be done by reading the digits into an array, then reducing them. As a Python noob, my reading tells me that for clarity, list comprehensions are preferred over lambdas, e.g. see Guido van Rossum's [post](http://www.artima.com/weblogs/viewpost.jsp?thread=98196) from 2005. However, list comprehensions produce lists, whereas reduce produces a single output, and since a sum is computed using addition, which is associative, I'm going to use `reduce()`."
   ]
  },
  {
   "cell_type": "code",
   "execution_count": 4,
   "metadata": {},
   "outputs": [],
   "source": [
    "from functools import reduce"
   ]
  },
  {
   "cell_type": "code",
   "execution_count": 31,
   "metadata": {},
   "outputs": [
    {
     "data": {
      "text/plain": [
       "1141"
      ]
     },
     "execution_count": 31,
     "metadata": {},
     "output_type": "execute_result"
    }
   ],
   "source": [
    "def circular_list_next_item(list, index): \n",
    "    \"Returns the item next to the item given by the index; the item after the last item is the first item\"\n",
    "    return list[0] if index == len(list)-1 else list[index+1]\n",
    "\n",
    "def inverse_captcha(digits):\n",
    "    \"Returns sum of digits in list that match the next digit, treating list as circular.\"\n",
    "    return reduce(lambda sum, index: sum + (digits[index] if circular_list_next_item(digits, index) == digits[index] else 0), range(len(digits)), 0)\n",
    "    \n",
    "def characters_to_int_array(input):\n",
    "    \"Given a string of digits, returns them as an array of integers\"\n",
    "    return [int(x) for x in input]\n",
    "\n",
    "assert inverse_captcha(characters_to_int_array(\"1122\")) == 3\n",
    "assert inverse_captcha(characters_to_int_array(\"1111\")) == 4\n",
    "assert inverse_captcha(characters_to_int_array(\"1234\")) == 0\n",
    "assert inverse_captcha(characters_to_int_array(\"91212129\")) == 9\n",
    "\n",
    "inverse_captcha(characters_to_int_array(Input(1).read().rstrip(\"\\n\")))"
   ]
  }
 ],
 "metadata": {
  "kernelspec": {
   "display_name": "Python 3",
   "language": "python",
   "name": "python3"
  },
  "language_info": {
   "codemirror_mode": {
    "name": "ipython",
    "version": 3
   },
   "file_extension": ".py",
   "mimetype": "text/x-python",
   "name": "python",
   "nbconvert_exporter": "python",
   "pygments_lexer": "ipython3",
   "version": "3.6.3"
  }
 },
 "nbformat": 4,
 "nbformat_minor": 2
}
