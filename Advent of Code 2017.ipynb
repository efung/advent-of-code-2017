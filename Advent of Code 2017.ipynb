{
 "cells": [
  {
   "cell_type": "code",
   "execution_count": 4,
   "metadata": {},
   "outputs": [],
   "source": [
    "# Python 3.x\n",
    "import re\n",
    "import math\n",
    "\n",
    "def Input(day):\n",
    "    \"Open this day's input file.\"\n",
    "    filename = 'inputs/{}.txt'.format(day)\n",
    "    try:\n",
    "        return open(filename)\n",
    "    except FileNotFoundError:\n",
    "        print(\"Oops, couldn't open input\")\n"
   ]
  },
  {
   "cell_type": "markdown",
   "metadata": {},
   "source": [
    "# Day 1 - Inverse Captcha\n",
    "## Part 1"
   ]
  },
  {
   "cell_type": "markdown",
   "metadata": {},
   "source": [
    "> The captcha requires you to review a sequence of digits (your puzzle input) and find the sum of all digits that match the next digit in the list. The list is circular, so the digit after the last digit is the first digit in the list."
   ]
  },
  {
   "cell_type": "markdown",
   "metadata": {},
   "source": [
    "This could be done by reading the digits into an array, then reducing them. As a Python noob, I read that for clarity, list comprehensions are preferred over lambdas, e.g. see Guido van Rossum's [post](http://www.artima.com/weblogs/viewpost.jsp?thread=98196) from 2005. However, list comprehensions produce lists, whereas reduce produces a single output. Van Rossum concedes that `reduce()` may be used when the operator is associative, so I'm going to go ahead with `reduce()`."
   ]
  },
  {
   "cell_type": "code",
   "execution_count": 5,
   "metadata": {},
   "outputs": [],
   "source": [
    "from functools import reduce"
   ]
  },
  {
   "cell_type": "code",
   "execution_count": 9,
   "metadata": {},
   "outputs": [
    {
     "data": {
      "text/plain": [
       "1141"
      ]
     },
     "execution_count": 9,
     "metadata": {},
     "output_type": "execute_result"
    }
   ],
   "source": [
    "def chars_to_int_array(str):\n",
    "    \"Given a string of digits, returns them as an array of integers\"\n",
    "    return [int(ch) for ch in str]\n",
    "\n",
    "def circular_list_next_item(list, index, offset=1): \n",
    "    \"Returns the list item that is 'offset' elements away after the one given by the index; the item after the last item is the first item\"\n",
    "    return list[(index + offset) % len(list)]\n",
    "\n",
    "def inverse_captcha_1(arr):\n",
    "    \"Returns sum of digits in array that match the next digit, treating list as circular.\"\n",
    "    return reduce(lambda sum, i: sum + (arr[i] if circular_list_next_item(arr, i) == arr[i] else 0), range(len(arr)), 0)\n",
    "    \n",
    "\n",
    "assert inverse_captcha_1(chars_to_int_array(\"1122\")) == 3\n",
    "assert inverse_captcha_1(chars_to_int_array(\"1111\")) == 4\n",
    "assert inverse_captcha_1(chars_to_int_array(\"1234\")) == 0\n",
    "assert inverse_captcha_1(chars_to_int_array(\"91212129\")) == 9\n",
    "\n",
    "inverse_captcha_1(chars_to_int_array(Input(1).read().rstrip(\"\\n\")))"
   ]
  },
  {
   "cell_type": "markdown",
   "metadata": {},
   "source": [
    "## Part 2"
   ]
  },
  {
   "cell_type": "markdown",
   "metadata": {},
   "source": [
    "Now, instead of considering the next digit, it wants you to consider the digit halfway around the circular list. Fortunately, your list has an even number of elements"
   ]
  },
  {
   "cell_type": "code",
   "execution_count": 16,
   "metadata": {},
   "outputs": [
    {
     "data": {
      "text/plain": [
       "950"
      ]
     },
     "execution_count": 16,
     "metadata": {},
     "output_type": "execute_result"
    }
   ],
   "source": [
    "def inverse_captcha_2(arr):\n",
    "    \"Returns sum of digits in array that match the digit that is halfway around, treating list as circular.\"\n",
    "    return reduce(lambda sum, i: sum + (arr[i] if circular_list_next_item(arr, i, len(arr)//2) == arr[i] else 0), range(len(arr)), 0)\n",
    "\n",
    "assert inverse_captcha_2(chars_to_int_array(\"1212\")) == 6\n",
    "assert inverse_captcha_2(chars_to_int_array(\"1221\")) == 0\n",
    "assert inverse_captcha_2(chars_to_int_array(\"123425\")) == 4\n",
    "assert inverse_captcha_2(chars_to_int_array(\"123123\")) == 12\n",
    "assert inverse_captcha_2(chars_to_int_array(\"12131415\")) == 4\n",
    "\n",
    "inverse_captcha_2(chars_to_int_array(Input(1).read().rstrip(\"\\n\")))"
   ]
  }
 ],
 "metadata": {
  "kernelspec": {
   "display_name": "Python 3",
   "language": "python",
   "name": "python3"
  },
  "language_info": {
   "codemirror_mode": {
    "name": "ipython",
    "version": 3
   },
   "file_extension": ".py",
   "mimetype": "text/x-python",
   "name": "python",
   "nbconvert_exporter": "python",
   "pygments_lexer": "ipython3",
   "version": "3.6.3"
  }
 },
 "nbformat": 4,
 "nbformat_minor": 2
}
